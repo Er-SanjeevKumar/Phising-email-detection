{
  "nbformat": 4,
  "nbformat_minor": 0,
  "metadata": {
    "colab": {
      "provenance": []
    },
    "kernelspec": {
      "name": "python3",
      "display_name": "Python 3"
    },
    "language_info": {
      "name": "python"
    }
  },
  "cells": [
    {
      "cell_type": "code",
      "execution_count": null,
      "metadata": {
        "id": "7pp2RUZ6BMH4"
      },
      "outputs": [],
      "source": [
        "import numpy as np\n",
        "import pandas as pd\n",
        "from sklearn.model_selection import train_test_split"
      ]
    },
    {
      "cell_type": "code",
      "source": [
        "from sklearn.feature_extraction.text import TfidfVectorizer\n",
        "from sklearn.metrics import accuracy_score"
      ],
      "metadata": {
        "id": "YJNZ19aLBXui"
      },
      "execution_count": null,
      "outputs": []
    },
    {
      "cell_type": "code",
      "source": [
        "path_p=r\"/content/mail_data.csv\"\n",
        "df=pd.read_csv(path_p)"
      ],
      "metadata": {
        "id": "ugRiHEVhBZdr"
      },
      "execution_count": null,
      "outputs": []
    },
    {
      "cell_type": "code",
      "source": [
        "print(df)"
      ],
      "metadata": {
        "colab": {
          "base_uri": "https://localhost:8080/"
        },
        "id": "rPdsdq8ABbDp",
        "outputId": "9b83fa92-9024-4402-8b51-b1e874e6b347"
      },
      "execution_count": null,
      "outputs": [
        {
          "output_type": "stream",
          "name": "stdout",
          "text": [
            "     Category                                            Message\n",
            "0         ham  Go until jurong point, crazy.. Available only ...\n",
            "1         ham                      Ok lar... Joking wif u oni...\n",
            "2        spam  Free entry in 2 a wkly comp to win FA Cup fina...\n",
            "3         ham  U dun say so early hor... U c already then say...\n",
            "4         ham  Nah I don't think he goes to usf, he lives aro...\n",
            "...       ...                                                ...\n",
            "5567     spam  This is the 2nd time we have tried 2 contact u...\n",
            "5568      ham               Will ü b going to esplanade fr home?\n",
            "5569      ham  Pity, * was in mood for that. So...any other s...\n",
            "5570      ham  The guy did some bitching but I acted like i'd...\n",
            "5571      ham                         Rofl. Its true to its name\n",
            "\n",
            "[5572 rows x 2 columns]\n"
          ]
        }
      ]
    },
    {
      "cell_type": "code",
      "source": [
        "data=df.where((pd.notnull(df)),'')\n",
        "data.head()"
      ],
      "metadata": {
        "colab": {
          "base_uri": "https://localhost:8080/",
          "height": 206
        },
        "id": "y8x6QQ2MBcrv",
        "outputId": "18e172b7-94b4-40d8-d151-3260dd7e164b"
      },
      "execution_count": null,
      "outputs": [
        {
          "output_type": "execute_result",
          "data": {
            "text/plain": [
              "  Category                                            Message\n",
              "0      ham  Go until jurong point, crazy.. Available only ...\n",
              "1      ham                      Ok lar... Joking wif u oni...\n",
              "2     spam  Free entry in 2 a wkly comp to win FA Cup fina...\n",
              "3      ham  U dun say so early hor... U c already then say...\n",
              "4      ham  Nah I don't think he goes to usf, he lives aro..."
            ],
            "text/html": [
              "\n",
              "  <div id=\"df-3ad955c9-cf7a-4560-833e-b0c9ccf948be\" class=\"colab-df-container\">\n",
              "    <div>\n",
              "<style scoped>\n",
              "    .dataframe tbody tr th:only-of-type {\n",
              "        vertical-align: middle;\n",
              "    }\n",
              "\n",
              "    .dataframe tbody tr th {\n",
              "        vertical-align: top;\n",
              "    }\n",
              "\n",
              "    .dataframe thead th {\n",
              "        text-align: right;\n",
              "    }\n",
              "</style>\n",
              "<table border=\"1\" class=\"dataframe\">\n",
              "  <thead>\n",
              "    <tr style=\"text-align: right;\">\n",
              "      <th></th>\n",
              "      <th>Category</th>\n",
              "      <th>Message</th>\n",
              "    </tr>\n",
              "  </thead>\n",
              "  <tbody>\n",
              "    <tr>\n",
              "      <th>0</th>\n",
              "      <td>ham</td>\n",
              "      <td>Go until jurong point, crazy.. Available only ...</td>\n",
              "    </tr>\n",
              "    <tr>\n",
              "      <th>1</th>\n",
              "      <td>ham</td>\n",
              "      <td>Ok lar... Joking wif u oni...</td>\n",
              "    </tr>\n",
              "    <tr>\n",
              "      <th>2</th>\n",
              "      <td>spam</td>\n",
              "      <td>Free entry in 2 a wkly comp to win FA Cup fina...</td>\n",
              "    </tr>\n",
              "    <tr>\n",
              "      <th>3</th>\n",
              "      <td>ham</td>\n",
              "      <td>U dun say so early hor... U c already then say...</td>\n",
              "    </tr>\n",
              "    <tr>\n",
              "      <th>4</th>\n",
              "      <td>ham</td>\n",
              "      <td>Nah I don't think he goes to usf, he lives aro...</td>\n",
              "    </tr>\n",
              "  </tbody>\n",
              "</table>\n",
              "</div>\n",
              "    <div class=\"colab-df-buttons\">\n",
              "\n",
              "  <div class=\"colab-df-container\">\n",
              "    <button class=\"colab-df-convert\" onclick=\"convertToInteractive('df-3ad955c9-cf7a-4560-833e-b0c9ccf948be')\"\n",
              "            title=\"Convert this dataframe to an interactive table.\"\n",
              "            style=\"display:none;\">\n",
              "\n",
              "  <svg xmlns=\"http://www.w3.org/2000/svg\" height=\"24px\" viewBox=\"0 -960 960 960\">\n",
              "    <path d=\"M120-120v-720h720v720H120Zm60-500h600v-160H180v160Zm220 220h160v-160H400v160Zm0 220h160v-160H400v160ZM180-400h160v-160H180v160Zm440 0h160v-160H620v160ZM180-180h160v-160H180v160Zm440 0h160v-160H620v160Z\"/>\n",
              "  </svg>\n",
              "    </button>\n",
              "\n",
              "  <style>\n",
              "    .colab-df-container {\n",
              "      display:flex;\n",
              "      gap: 12px;\n",
              "    }\n",
              "\n",
              "    .colab-df-convert {\n",
              "      background-color: #E8F0FE;\n",
              "      border: none;\n",
              "      border-radius: 50%;\n",
              "      cursor: pointer;\n",
              "      display: none;\n",
              "      fill: #1967D2;\n",
              "      height: 32px;\n",
              "      padding: 0 0 0 0;\n",
              "      width: 32px;\n",
              "    }\n",
              "\n",
              "    .colab-df-convert:hover {\n",
              "      background-color: #E2EBFA;\n",
              "      box-shadow: 0px 1px 2px rgba(60, 64, 67, 0.3), 0px 1px 3px 1px rgba(60, 64, 67, 0.15);\n",
              "      fill: #174EA6;\n",
              "    }\n",
              "\n",
              "    .colab-df-buttons div {\n",
              "      margin-bottom: 4px;\n",
              "    }\n",
              "\n",
              "    [theme=dark] .colab-df-convert {\n",
              "      background-color: #3B4455;\n",
              "      fill: #D2E3FC;\n",
              "    }\n",
              "\n",
              "    [theme=dark] .colab-df-convert:hover {\n",
              "      background-color: #434B5C;\n",
              "      box-shadow: 0px 1px 3px 1px rgba(0, 0, 0, 0.15);\n",
              "      filter: drop-shadow(0px 1px 2px rgba(0, 0, 0, 0.3));\n",
              "      fill: #FFFFFF;\n",
              "    }\n",
              "  </style>\n",
              "\n",
              "    <script>\n",
              "      const buttonEl =\n",
              "        document.querySelector('#df-3ad955c9-cf7a-4560-833e-b0c9ccf948be button.colab-df-convert');\n",
              "      buttonEl.style.display =\n",
              "        google.colab.kernel.accessAllowed ? 'block' : 'none';\n",
              "\n",
              "      async function convertToInteractive(key) {\n",
              "        const element = document.querySelector('#df-3ad955c9-cf7a-4560-833e-b0c9ccf948be');\n",
              "        const dataTable =\n",
              "          await google.colab.kernel.invokeFunction('convertToInteractive',\n",
              "                                                    [key], {});\n",
              "        if (!dataTable) return;\n",
              "\n",
              "        const docLinkHtml = 'Like what you see? Visit the ' +\n",
              "          '<a target=\"_blank\" href=https://colab.research.google.com/notebooks/data_table.ipynb>data table notebook</a>'\n",
              "          + ' to learn more about interactive tables.';\n",
              "        element.innerHTML = '';\n",
              "        dataTable['output_type'] = 'display_data';\n",
              "        await google.colab.output.renderOutput(dataTable, element);\n",
              "        const docLink = document.createElement('div');\n",
              "        docLink.innerHTML = docLinkHtml;\n",
              "        element.appendChild(docLink);\n",
              "      }\n",
              "    </script>\n",
              "  </div>\n",
              "\n",
              "\n",
              "<div id=\"df-cd013624-6ff7-4056-905b-40d797da6483\">\n",
              "  <button class=\"colab-df-quickchart\" onclick=\"quickchart('df-cd013624-6ff7-4056-905b-40d797da6483')\"\n",
              "            title=\"Suggest charts\"\n",
              "            style=\"display:none;\">\n",
              "\n",
              "<svg xmlns=\"http://www.w3.org/2000/svg\" height=\"24px\"viewBox=\"0 0 24 24\"\n",
              "     width=\"24px\">\n",
              "    <g>\n",
              "        <path d=\"M19 3H5c-1.1 0-2 .9-2 2v14c0 1.1.9 2 2 2h14c1.1 0 2-.9 2-2V5c0-1.1-.9-2-2-2zM9 17H7v-7h2v7zm4 0h-2V7h2v10zm4 0h-2v-4h2v4z\"/>\n",
              "    </g>\n",
              "</svg>\n",
              "  </button>\n",
              "\n",
              "<style>\n",
              "  .colab-df-quickchart {\n",
              "      --bg-color: #E8F0FE;\n",
              "      --fill-color: #1967D2;\n",
              "      --hover-bg-color: #E2EBFA;\n",
              "      --hover-fill-color: #174EA6;\n",
              "      --disabled-fill-color: #AAA;\n",
              "      --disabled-bg-color: #DDD;\n",
              "  }\n",
              "\n",
              "  [theme=dark] .colab-df-quickchart {\n",
              "      --bg-color: #3B4455;\n",
              "      --fill-color: #D2E3FC;\n",
              "      --hover-bg-color: #434B5C;\n",
              "      --hover-fill-color: #FFFFFF;\n",
              "      --disabled-bg-color: #3B4455;\n",
              "      --disabled-fill-color: #666;\n",
              "  }\n",
              "\n",
              "  .colab-df-quickchart {\n",
              "    background-color: var(--bg-color);\n",
              "    border: none;\n",
              "    border-radius: 50%;\n",
              "    cursor: pointer;\n",
              "    display: none;\n",
              "    fill: var(--fill-color);\n",
              "    height: 32px;\n",
              "    padding: 0;\n",
              "    width: 32px;\n",
              "  }\n",
              "\n",
              "  .colab-df-quickchart:hover {\n",
              "    background-color: var(--hover-bg-color);\n",
              "    box-shadow: 0 1px 2px rgba(60, 64, 67, 0.3), 0 1px 3px 1px rgba(60, 64, 67, 0.15);\n",
              "    fill: var(--button-hover-fill-color);\n",
              "  }\n",
              "\n",
              "  .colab-df-quickchart-complete:disabled,\n",
              "  .colab-df-quickchart-complete:disabled:hover {\n",
              "    background-color: var(--disabled-bg-color);\n",
              "    fill: var(--disabled-fill-color);\n",
              "    box-shadow: none;\n",
              "  }\n",
              "\n",
              "  .colab-df-spinner {\n",
              "    border: 2px solid var(--fill-color);\n",
              "    border-color: transparent;\n",
              "    border-bottom-color: var(--fill-color);\n",
              "    animation:\n",
              "      spin 1s steps(1) infinite;\n",
              "  }\n",
              "\n",
              "  @keyframes spin {\n",
              "    0% {\n",
              "      border-color: transparent;\n",
              "      border-bottom-color: var(--fill-color);\n",
              "      border-left-color: var(--fill-color);\n",
              "    }\n",
              "    20% {\n",
              "      border-color: transparent;\n",
              "      border-left-color: var(--fill-color);\n",
              "      border-top-color: var(--fill-color);\n",
              "    }\n",
              "    30% {\n",
              "      border-color: transparent;\n",
              "      border-left-color: var(--fill-color);\n",
              "      border-top-color: var(--fill-color);\n",
              "      border-right-color: var(--fill-color);\n",
              "    }\n",
              "    40% {\n",
              "      border-color: transparent;\n",
              "      border-right-color: var(--fill-color);\n",
              "      border-top-color: var(--fill-color);\n",
              "    }\n",
              "    60% {\n",
              "      border-color: transparent;\n",
              "      border-right-color: var(--fill-color);\n",
              "    }\n",
              "    80% {\n",
              "      border-color: transparent;\n",
              "      border-right-color: var(--fill-color);\n",
              "      border-bottom-color: var(--fill-color);\n",
              "    }\n",
              "    90% {\n",
              "      border-color: transparent;\n",
              "      border-bottom-color: var(--fill-color);\n",
              "    }\n",
              "  }\n",
              "</style>\n",
              "\n",
              "  <script>\n",
              "    async function quickchart(key) {\n",
              "      const quickchartButtonEl =\n",
              "        document.querySelector('#' + key + ' button');\n",
              "      quickchartButtonEl.disabled = true;  // To prevent multiple clicks.\n",
              "      quickchartButtonEl.classList.add('colab-df-spinner');\n",
              "      try {\n",
              "        const charts = await google.colab.kernel.invokeFunction(\n",
              "            'suggestCharts', [key], {});\n",
              "      } catch (error) {\n",
              "        console.error('Error during call to suggestCharts:', error);\n",
              "      }\n",
              "      quickchartButtonEl.classList.remove('colab-df-spinner');\n",
              "      quickchartButtonEl.classList.add('colab-df-quickchart-complete');\n",
              "    }\n",
              "    (() => {\n",
              "      let quickchartButtonEl =\n",
              "        document.querySelector('#df-cd013624-6ff7-4056-905b-40d797da6483 button');\n",
              "      quickchartButtonEl.style.display =\n",
              "        google.colab.kernel.accessAllowed ? 'block' : 'none';\n",
              "    })();\n",
              "  </script>\n",
              "</div>\n",
              "\n",
              "    </div>\n",
              "  </div>\n"
            ],
            "application/vnd.google.colaboratory.intrinsic+json": {
              "type": "dataframe",
              "variable_name": "data",
              "summary": "{\n  \"name\": \"data\",\n  \"rows\": 5572,\n  \"fields\": [\n    {\n      \"column\": \"Category\",\n      \"properties\": {\n        \"dtype\": \"category\",\n        \"num_unique_values\": 2,\n        \"samples\": [\n          \"spam\",\n          \"ham\"\n        ],\n        \"semantic_type\": \"\",\n        \"description\": \"\"\n      }\n    },\n    {\n      \"column\": \"Message\",\n      \"properties\": {\n        \"dtype\": \"string\",\n        \"num_unique_values\": 5157,\n        \"samples\": [\n          \"Also sir, i sent you an email about how to log into the usc payment portal. I.ll send you another message that should explain how things are back home. Have a great weekend.\",\n          \"Are you free now?can i call now?\"\n        ],\n        \"semantic_type\": \"\",\n        \"description\": \"\"\n      }\n    }\n  ]\n}"
            }
          },
          "metadata": {},
          "execution_count": 82
        }
      ]
    },
    {
      "cell_type": "code",
      "source": [
        "data.shape"
      ],
      "metadata": {
        "colab": {
          "base_uri": "https://localhost:8080/"
        },
        "id": "2SxN5LkBBe8s",
        "outputId": "8db3b83c-f523-45c3-e2f3-fa4cde1a8b8c"
      },
      "execution_count": null,
      "outputs": [
        {
          "output_type": "execute_result",
          "data": {
            "text/plain": [
              "(5572, 2)"
            ]
          },
          "metadata": {},
          "execution_count": 83
        }
      ]
    },
    {
      "cell_type": "code",
      "source": [
        "data.info()"
      ],
      "metadata": {
        "colab": {
          "base_uri": "https://localhost:8080/"
        },
        "id": "wAx8v-_5BgwX",
        "outputId": "1321e6fa-80cd-46a4-e80a-1a9f26cb52f3"
      },
      "execution_count": null,
      "outputs": [
        {
          "output_type": "stream",
          "name": "stdout",
          "text": [
            "<class 'pandas.core.frame.DataFrame'>\n",
            "RangeIndex: 5572 entries, 0 to 5571\n",
            "Data columns (total 2 columns):\n",
            " #   Column    Non-Null Count  Dtype \n",
            "---  ------    --------------  ----- \n",
            " 0   Category  5572 non-null   object\n",
            " 1   Message   5572 non-null   object\n",
            "dtypes: object(2)\n",
            "memory usage: 87.2+ KB\n"
          ]
        }
      ]
    },
    {
      "cell_type": "code",
      "source": [
        "from sklearn.preprocessing import LabelEncoder\n",
        "enc=LabelEncoder()"
      ],
      "metadata": {
        "id": "cPhFn9EgBiUW"
      },
      "execution_count": null,
      "outputs": []
    },
    {
      "cell_type": "code",
      "source": [
        "df['Category']=enc.fit_transform(df['Category'])"
      ],
      "metadata": {
        "id": "HU4ENlAoBki6"
      },
      "execution_count": null,
      "outputs": []
    },
    {
      "cell_type": "code",
      "source": [
        "df.head()"
      ],
      "metadata": {
        "colab": {
          "base_uri": "https://localhost:8080/",
          "height": 206
        },
        "id": "COB7qqQrBml2",
        "outputId": "9fc5b0e4-dcba-47c7-ab99-d868e9f99a5a"
      },
      "execution_count": null,
      "outputs": [
        {
          "output_type": "execute_result",
          "data": {
            "text/plain": [
              "   Category                                            Message\n",
              "0         0  Go until jurong point, crazy.. Available only ...\n",
              "1         0                      Ok lar... Joking wif u oni...\n",
              "2         1  Free entry in 2 a wkly comp to win FA Cup fina...\n",
              "3         0  U dun say so early hor... U c already then say...\n",
              "4         0  Nah I don't think he goes to usf, he lives aro..."
            ],
            "text/html": [
              "\n",
              "  <div id=\"df-2b8cc8de-6b0d-49d1-85c5-ab9d74583197\" class=\"colab-df-container\">\n",
              "    <div>\n",
              "<style scoped>\n",
              "    .dataframe tbody tr th:only-of-type {\n",
              "        vertical-align: middle;\n",
              "    }\n",
              "\n",
              "    .dataframe tbody tr th {\n",
              "        vertical-align: top;\n",
              "    }\n",
              "\n",
              "    .dataframe thead th {\n",
              "        text-align: right;\n",
              "    }\n",
              "</style>\n",
              "<table border=\"1\" class=\"dataframe\">\n",
              "  <thead>\n",
              "    <tr style=\"text-align: right;\">\n",
              "      <th></th>\n",
              "      <th>Category</th>\n",
              "      <th>Message</th>\n",
              "    </tr>\n",
              "  </thead>\n",
              "  <tbody>\n",
              "    <tr>\n",
              "      <th>0</th>\n",
              "      <td>0</td>\n",
              "      <td>Go until jurong point, crazy.. Available only ...</td>\n",
              "    </tr>\n",
              "    <tr>\n",
              "      <th>1</th>\n",
              "      <td>0</td>\n",
              "      <td>Ok lar... Joking wif u oni...</td>\n",
              "    </tr>\n",
              "    <tr>\n",
              "      <th>2</th>\n",
              "      <td>1</td>\n",
              "      <td>Free entry in 2 a wkly comp to win FA Cup fina...</td>\n",
              "    </tr>\n",
              "    <tr>\n",
              "      <th>3</th>\n",
              "      <td>0</td>\n",
              "      <td>U dun say so early hor... U c already then say...</td>\n",
              "    </tr>\n",
              "    <tr>\n",
              "      <th>4</th>\n",
              "      <td>0</td>\n",
              "      <td>Nah I don't think he goes to usf, he lives aro...</td>\n",
              "    </tr>\n",
              "  </tbody>\n",
              "</table>\n",
              "</div>\n",
              "    <div class=\"colab-df-buttons\">\n",
              "\n",
              "  <div class=\"colab-df-container\">\n",
              "    <button class=\"colab-df-convert\" onclick=\"convertToInteractive('df-2b8cc8de-6b0d-49d1-85c5-ab9d74583197')\"\n",
              "            title=\"Convert this dataframe to an interactive table.\"\n",
              "            style=\"display:none;\">\n",
              "\n",
              "  <svg xmlns=\"http://www.w3.org/2000/svg\" height=\"24px\" viewBox=\"0 -960 960 960\">\n",
              "    <path d=\"M120-120v-720h720v720H120Zm60-500h600v-160H180v160Zm220 220h160v-160H400v160Zm0 220h160v-160H400v160ZM180-400h160v-160H180v160Zm440 0h160v-160H620v160ZM180-180h160v-160H180v160Zm440 0h160v-160H620v160Z\"/>\n",
              "  </svg>\n",
              "    </button>\n",
              "\n",
              "  <style>\n",
              "    .colab-df-container {\n",
              "      display:flex;\n",
              "      gap: 12px;\n",
              "    }\n",
              "\n",
              "    .colab-df-convert {\n",
              "      background-color: #E8F0FE;\n",
              "      border: none;\n",
              "      border-radius: 50%;\n",
              "      cursor: pointer;\n",
              "      display: none;\n",
              "      fill: #1967D2;\n",
              "      height: 32px;\n",
              "      padding: 0 0 0 0;\n",
              "      width: 32px;\n",
              "    }\n",
              "\n",
              "    .colab-df-convert:hover {\n",
              "      background-color: #E2EBFA;\n",
              "      box-shadow: 0px 1px 2px rgba(60, 64, 67, 0.3), 0px 1px 3px 1px rgba(60, 64, 67, 0.15);\n",
              "      fill: #174EA6;\n",
              "    }\n",
              "\n",
              "    .colab-df-buttons div {\n",
              "      margin-bottom: 4px;\n",
              "    }\n",
              "\n",
              "    [theme=dark] .colab-df-convert {\n",
              "      background-color: #3B4455;\n",
              "      fill: #D2E3FC;\n",
              "    }\n",
              "\n",
              "    [theme=dark] .colab-df-convert:hover {\n",
              "      background-color: #434B5C;\n",
              "      box-shadow: 0px 1px 3px 1px rgba(0, 0, 0, 0.15);\n",
              "      filter: drop-shadow(0px 1px 2px rgba(0, 0, 0, 0.3));\n",
              "      fill: #FFFFFF;\n",
              "    }\n",
              "  </style>\n",
              "\n",
              "    <script>\n",
              "      const buttonEl =\n",
              "        document.querySelector('#df-2b8cc8de-6b0d-49d1-85c5-ab9d74583197 button.colab-df-convert');\n",
              "      buttonEl.style.display =\n",
              "        google.colab.kernel.accessAllowed ? 'block' : 'none';\n",
              "\n",
              "      async function convertToInteractive(key) {\n",
              "        const element = document.querySelector('#df-2b8cc8de-6b0d-49d1-85c5-ab9d74583197');\n",
              "        const dataTable =\n",
              "          await google.colab.kernel.invokeFunction('convertToInteractive',\n",
              "                                                    [key], {});\n",
              "        if (!dataTable) return;\n",
              "\n",
              "        const docLinkHtml = 'Like what you see? Visit the ' +\n",
              "          '<a target=\"_blank\" href=https://colab.research.google.com/notebooks/data_table.ipynb>data table notebook</a>'\n",
              "          + ' to learn more about interactive tables.';\n",
              "        element.innerHTML = '';\n",
              "        dataTable['output_type'] = 'display_data';\n",
              "        await google.colab.output.renderOutput(dataTable, element);\n",
              "        const docLink = document.createElement('div');\n",
              "        docLink.innerHTML = docLinkHtml;\n",
              "        element.appendChild(docLink);\n",
              "      }\n",
              "    </script>\n",
              "  </div>\n",
              "\n",
              "\n",
              "<div id=\"df-5cbc194d-e42f-4c14-9f47-3f05821f6643\">\n",
              "  <button class=\"colab-df-quickchart\" onclick=\"quickchart('df-5cbc194d-e42f-4c14-9f47-3f05821f6643')\"\n",
              "            title=\"Suggest charts\"\n",
              "            style=\"display:none;\">\n",
              "\n",
              "<svg xmlns=\"http://www.w3.org/2000/svg\" height=\"24px\"viewBox=\"0 0 24 24\"\n",
              "     width=\"24px\">\n",
              "    <g>\n",
              "        <path d=\"M19 3H5c-1.1 0-2 .9-2 2v14c0 1.1.9 2 2 2h14c1.1 0 2-.9 2-2V5c0-1.1-.9-2-2-2zM9 17H7v-7h2v7zm4 0h-2V7h2v10zm4 0h-2v-4h2v4z\"/>\n",
              "    </g>\n",
              "</svg>\n",
              "  </button>\n",
              "\n",
              "<style>\n",
              "  .colab-df-quickchart {\n",
              "      --bg-color: #E8F0FE;\n",
              "      --fill-color: #1967D2;\n",
              "      --hover-bg-color: #E2EBFA;\n",
              "      --hover-fill-color: #174EA6;\n",
              "      --disabled-fill-color: #AAA;\n",
              "      --disabled-bg-color: #DDD;\n",
              "  }\n",
              "\n",
              "  [theme=dark] .colab-df-quickchart {\n",
              "      --bg-color: #3B4455;\n",
              "      --fill-color: #D2E3FC;\n",
              "      --hover-bg-color: #434B5C;\n",
              "      --hover-fill-color: #FFFFFF;\n",
              "      --disabled-bg-color: #3B4455;\n",
              "      --disabled-fill-color: #666;\n",
              "  }\n",
              "\n",
              "  .colab-df-quickchart {\n",
              "    background-color: var(--bg-color);\n",
              "    border: none;\n",
              "    border-radius: 50%;\n",
              "    cursor: pointer;\n",
              "    display: none;\n",
              "    fill: var(--fill-color);\n",
              "    height: 32px;\n",
              "    padding: 0;\n",
              "    width: 32px;\n",
              "  }\n",
              "\n",
              "  .colab-df-quickchart:hover {\n",
              "    background-color: var(--hover-bg-color);\n",
              "    box-shadow: 0 1px 2px rgba(60, 64, 67, 0.3), 0 1px 3px 1px rgba(60, 64, 67, 0.15);\n",
              "    fill: var(--button-hover-fill-color);\n",
              "  }\n",
              "\n",
              "  .colab-df-quickchart-complete:disabled,\n",
              "  .colab-df-quickchart-complete:disabled:hover {\n",
              "    background-color: var(--disabled-bg-color);\n",
              "    fill: var(--disabled-fill-color);\n",
              "    box-shadow: none;\n",
              "  }\n",
              "\n",
              "  .colab-df-spinner {\n",
              "    border: 2px solid var(--fill-color);\n",
              "    border-color: transparent;\n",
              "    border-bottom-color: var(--fill-color);\n",
              "    animation:\n",
              "      spin 1s steps(1) infinite;\n",
              "  }\n",
              "\n",
              "  @keyframes spin {\n",
              "    0% {\n",
              "      border-color: transparent;\n",
              "      border-bottom-color: var(--fill-color);\n",
              "      border-left-color: var(--fill-color);\n",
              "    }\n",
              "    20% {\n",
              "      border-color: transparent;\n",
              "      border-left-color: var(--fill-color);\n",
              "      border-top-color: var(--fill-color);\n",
              "    }\n",
              "    30% {\n",
              "      border-color: transparent;\n",
              "      border-left-color: var(--fill-color);\n",
              "      border-top-color: var(--fill-color);\n",
              "      border-right-color: var(--fill-color);\n",
              "    }\n",
              "    40% {\n",
              "      border-color: transparent;\n",
              "      border-right-color: var(--fill-color);\n",
              "      border-top-color: var(--fill-color);\n",
              "    }\n",
              "    60% {\n",
              "      border-color: transparent;\n",
              "      border-right-color: var(--fill-color);\n",
              "    }\n",
              "    80% {\n",
              "      border-color: transparent;\n",
              "      border-right-color: var(--fill-color);\n",
              "      border-bottom-color: var(--fill-color);\n",
              "    }\n",
              "    90% {\n",
              "      border-color: transparent;\n",
              "      border-bottom-color: var(--fill-color);\n",
              "    }\n",
              "  }\n",
              "</style>\n",
              "\n",
              "  <script>\n",
              "    async function quickchart(key) {\n",
              "      const quickchartButtonEl =\n",
              "        document.querySelector('#' + key + ' button');\n",
              "      quickchartButtonEl.disabled = true;  // To prevent multiple clicks.\n",
              "      quickchartButtonEl.classList.add('colab-df-spinner');\n",
              "      try {\n",
              "        const charts = await google.colab.kernel.invokeFunction(\n",
              "            'suggestCharts', [key], {});\n",
              "      } catch (error) {\n",
              "        console.error('Error during call to suggestCharts:', error);\n",
              "      }\n",
              "      quickchartButtonEl.classList.remove('colab-df-spinner');\n",
              "      quickchartButtonEl.classList.add('colab-df-quickchart-complete');\n",
              "    }\n",
              "    (() => {\n",
              "      let quickchartButtonEl =\n",
              "        document.querySelector('#df-5cbc194d-e42f-4c14-9f47-3f05821f6643 button');\n",
              "      quickchartButtonEl.style.display =\n",
              "        google.colab.kernel.accessAllowed ? 'block' : 'none';\n",
              "    })();\n",
              "  </script>\n",
              "</div>\n",
              "\n",
              "    </div>\n",
              "  </div>\n"
            ],
            "application/vnd.google.colaboratory.intrinsic+json": {
              "type": "dataframe",
              "variable_name": "df",
              "summary": "{\n  \"name\": \"df\",\n  \"rows\": 5572,\n  \"fields\": [\n    {\n      \"column\": \"Category\",\n      \"properties\": {\n        \"dtype\": \"number\",\n        \"std\": 0,\n        \"min\": 0,\n        \"max\": 1,\n        \"num_unique_values\": 2,\n        \"samples\": [\n          1,\n          0\n        ],\n        \"semantic_type\": \"\",\n        \"description\": \"\"\n      }\n    },\n    {\n      \"column\": \"Message\",\n      \"properties\": {\n        \"dtype\": \"string\",\n        \"num_unique_values\": 5157,\n        \"samples\": [\n          \"Also sir, i sent you an email about how to log into the usc payment portal. I.ll send you another message that should explain how things are back home. Have a great weekend.\",\n          \"Are you free now?can i call now?\"\n        ],\n        \"semantic_type\": \"\",\n        \"description\": \"\"\n      }\n    }\n  ]\n}"
            }
          },
          "metadata": {},
          "execution_count": 87
        }
      ]
    },
    {
      "cell_type": "code",
      "source": [
        "df.isnull().sum()"
      ],
      "metadata": {
        "colab": {
          "base_uri": "https://localhost:8080/"
        },
        "id": "0M5gQqv3BoMu",
        "outputId": "7c2f11e5-6851-40b9-dc3f-37cb9dda83e5"
      },
      "execution_count": null,
      "outputs": [
        {
          "output_type": "execute_result",
          "data": {
            "text/plain": [
              "Category    0\n",
              "Message     0\n",
              "dtype: int64"
            ]
          },
          "metadata": {},
          "execution_count": 88
        }
      ]
    },
    {
      "cell_type": "code",
      "source": [
        "df.duplicated().sum()"
      ],
      "metadata": {
        "colab": {
          "base_uri": "https://localhost:8080/"
        },
        "id": "odtifm8qBpol",
        "outputId": "bd332e67-171c-4618-a638-aa2a1d693eae"
      },
      "execution_count": null,
      "outputs": [
        {
          "output_type": "execute_result",
          "data": {
            "text/plain": [
              "415"
            ]
          },
          "metadata": {},
          "execution_count": 89
        }
      ]
    },
    {
      "cell_type": "code",
      "source": [
        "df=df.drop_duplicates(keep='first')"
      ],
      "metadata": {
        "id": "P5Sf6sh4BrYL"
      },
      "execution_count": null,
      "outputs": []
    },
    {
      "cell_type": "code",
      "source": [
        "df.shape"
      ],
      "metadata": {
        "colab": {
          "base_uri": "https://localhost:8080/"
        },
        "id": "D18nx7khBs7T",
        "outputId": "f5dadd1c-d616-44b6-a0b0-e52345a3a5b9"
      },
      "execution_count": null,
      "outputs": [
        {
          "output_type": "execute_result",
          "data": {
            "text/plain": [
              "(5157, 2)"
            ]
          },
          "metadata": {},
          "execution_count": 91
        }
      ]
    },
    {
      "cell_type": "code",
      "source": [
        "df['Category'].value_counts()"
      ],
      "metadata": {
        "colab": {
          "base_uri": "https://localhost:8080/"
        },
        "id": "TE0zyk1yBuOW",
        "outputId": "74d4abce-0c86-45e3-afaf-d734d2e9b8f8"
      },
      "execution_count": null,
      "outputs": [
        {
          "output_type": "execute_result",
          "data": {
            "text/plain": [
              "Category\n",
              "0    4516\n",
              "1     641\n",
              "Name: count, dtype: int64"
            ]
          },
          "metadata": {},
          "execution_count": 92
        }
      ]
    },
    {
      "cell_type": "code",
      "source": [
        "import matplotlib.pyplot as plt\n",
        "plt.pie(df['Category'].value_counts(),labels=['ham','spam'],autopct=\"%0.2f\")\n",
        "plt.show()"
      ],
      "metadata": {
        "colab": {
          "base_uri": "https://localhost:8080/",
          "height": 406
        },
        "id": "HvYkVnJHBxsa",
        "outputId": "0d4ce5d7-7418-4955-f1fd-7b0512ab3247"
      },
      "execution_count": null,
      "outputs": [
        {
          "output_type": "display_data",
          "data": {
            "text/plain": [
              "<Figure size 640x480 with 1 Axes>"
            ],
            "image/png": "[encoded data removed]"
          },
          "metadata": {}
        }
      ]
    },
    {
      "cell_type": "code",
      "source": [
        "x = df['Message'].values.reshape(-1, 1)\n",
        "y = df['Category']\n",
        "from imblearn.under_sampling import NearMiss\n",
        "from collections import Counter\n",
        "from imblearn.over_sampling import RandomOverSampler\n",
        "\n",
        "ros = RandomOverSampler(random_state=42)\n",
        "\n",
        "print('Original dataset shape', Counter(y))\n",
        "\n",
        "# fit predictor and target\n",
        "x,y = ros.fit_resample(x, y)\n",
        "\n",
        "print('Modified dataset shape', Counter(y))"
      ],
      "metadata": {
        "colab": {
          "base_uri": "https://localhost:8080/"
        },
        "id": "31YsyqWWB3qp",
        "outputId": "1d565829-329b-4bdc-9ce8-2d1ac8494410"
      },
      "execution_count": null,
      "outputs": [
        {
          "output_type": "stream",
          "name": "stdout",
          "text": [
            "Original dataset shape Counter({0: 4516, 1: 641})\n",
            "Modified dataset shape Counter({0: 4516, 1: 4516})\n"
          ]
        }
      ]
    },
    {
      "cell_type": "code",
      "source": [
        "import nltk"
      ],
      "metadata": {
        "id": "1zo7sT2iDAxv"
      },
      "execution_count": null,
      "outputs": []
    },
    {
      "cell_type": "code",
      "source": [
        "!pip install nltk"
      ],
      "metadata": {
        "colab": {
          "base_uri": "https://localhost:8080/"
        },
        "id": "mq5QJlYEDY0O",
        "outputId": "861cbd38-78f4-4ef2-cf6e-20e1481efbb8"
      },
      "execution_count": null,
      "outputs": [
        {
          "output_type": "stream",
          "name": "stdout",
          "text": [
            "Requirement already satisfied: nltk in /usr/local/lib/python3.10/dist-packages (3.8.1)\n",
            "Requirement already satisfied: click in /usr/local/lib/python3.10/dist-packages (from nltk) (8.1.7)\n",
            "Requirement already satisfied: joblib in /usr/local/lib/python3.10/dist-packages (from nltk) (1.4.2)\n",
            "Requirement already satisfied: regex>=2021.8.3 in /usr/local/lib/python3.10/dist-packages (from nltk) (2023.12.25)\n",
            "Requirement already satisfied: tqdm in /usr/local/lib/python3.10/dist-packages (from nltk) (4.66.4)\n"
          ]
        }
      ]
    },
    {
      "cell_type": "code",
      "source": [
        "nltk.download('punkt')"
      ],
      "metadata": {
        "colab": {
          "base_uri": "https://localhost:8080/"
        },
        "id": "g0CB3MOwDa3O",
        "outputId": "e1c5ec61-930d-4e7a-b198-ffc971e9f88e"
      },
      "execution_count": null,
      "outputs": [
        {
          "output_type": "stream",
          "name": "stderr",
          "text": [
            "[nltk_data] Downloading package punkt to /root/nltk_data...\n",
            "[nltk_data]   Package punkt is already up-to-date!\n"
          ]
        },
        {
          "output_type": "execute_result",
          "data": {
            "text/plain": [
              "True"
            ]
          },
          "metadata": {},
          "execution_count": 97
        }
      ]
    },
    {
      "cell_type": "code",
      "source": [
        "df.head()"
      ],
      "metadata": {
        "colab": {
          "base_uri": "https://localhost:8080/",
          "height": 206
        },
        "id": "-1JIoRvRDc1s",
        "outputId": "a98f5488-e7a4-47db-9184-f1bc62707162"
      },
      "execution_count": null,
      "outputs": [
        {
          "output_type": "execute_result",
          "data": {
            "text/plain": [
              "   Category                                            Message\n",
              "0         0  Go until jurong point, crazy.. Available only ...\n",
              "1         0                      Ok lar... Joking wif u oni...\n",
              "2         1  Free entry in 2 a wkly comp to win FA Cup fina...\n",
              "3         0  U dun say so early hor... U c already then say...\n",
              "4         0  Nah I don't think he goes to usf, he lives aro..."
            ],
            "text/html": [
              "\n",
              "  <div id=\"df-034512e2-6e9e-4a92-aae3-6136f3501c64\" class=\"colab-df-container\">\n",
              "    <div>\n",
              "<style scoped>\n",
              "    .dataframe tbody tr th:only-of-type {\n",
              "        vertical-align: middle;\n",
              "    }\n",
              "\n",
              "    .dataframe tbody tr th {\n",
              "        vertical-align: top;\n",
              "    }\n",
              "\n",
              "    .dataframe thead th {\n",
              "        text-align: right;\n",
              "    }\n",
              "</style>\n",
              "<table border=\"1\" class=\"dataframe\">\n",
              "  <thead>\n",
              "    <tr style=\"text-align: right;\">\n",
              "      <th></th>\n",
              "      <th>Category</th>\n",
              "      <th>Message</th>\n",
              "    </tr>\n",
              "  </thead>\n",
              "  <tbody>\n",
              "    <tr>\n",
              "      <th>0</th>\n",
              "      <td>0</td>\n",
              "      <td>Go until jurong point, crazy.. Available only ...</td>\n",
              "    </tr>\n",
              "    <tr>\n",
              "      <th>1</th>\n",
              "      <td>0</td>\n",
              "      <td>Ok lar... Joking wif u oni...</td>\n",
              "    </tr>\n",
              "    <tr>\n",
              "      <th>2</th>\n",
              "      <td>1</td>\n",
              "      <td>Free entry in 2 a wkly comp to win FA Cup fina...</td>\n",
              "    </tr>\n",
              "    <tr>\n",
              "      <th>3</th>\n",
              "      <td>0</td>\n",
              "      <td>U dun say so early hor... U c already then say...</td>\n",
              "    </tr>\n",
              "    <tr>\n",
              "      <th>4</th>\n",
              "      <td>0</td>\n",
              "      <td>Nah I don't think he goes to usf, he lives aro...</td>\n",
              "    </tr>\n",
              "  </tbody>\n",
              "</table>\n",
              "</div>\n",
              "    <div class=\"colab-df-buttons\">\n",
              "\n",
              "  <div class=\"colab-df-container\">\n",
              "    <button class=\"colab-df-convert\" onclick=\"convertToInteractive('df-034512e2-6e9e-4a92-aae3-6136f3501c64')\"\n",
              "            title=\"Convert this dataframe to an interactive table.\"\n",
              "            style=\"display:none;\">\n",
              "\n",
              "  <svg xmlns=\"http://www.w3.org/2000/svg\" height=\"24px\" viewBox=\"0 -960 960 960\">\n",
              "    <path d=\"M120-120v-720h720v720H120Zm60-500h600v-160H180v160Zm220 220h160v-160H400v160Zm0 220h160v-160H400v160ZM180-400h160v-160H180v160Zm440 0h160v-160H620v160ZM180-180h160v-160H180v160Zm440 0h160v-160H620v160Z\"/>\n",
              "  </svg>\n",
              "    </button>\n",
              "\n",
              "  <style>\n",
              "    .colab-df-container {\n",
              "      display:flex;\n",
              "      gap: 12px;\n",
              "    }\n",
              "\n",
              "    .colab-df-convert {\n",
              "      background-color: #E8F0FE;\n",
              "      border: none;\n",
              "      border-radius: 50%;\n",
              "      cursor: pointer;\n",
              "      display: none;\n",
              "      fill: #1967D2;\n",
              "      height: 32px;\n",
              "      padding: 0 0 0 0;\n",
              "      width: 32px;\n",
              "    }\n",
              "\n",
              "    .colab-df-convert:hover {\n",
              "      background-color: #E2EBFA;\n",
              "      box-shadow: 0px 1px 2px rgba(60, 64, 67, 0.3), 0px 1px 3px 1px rgba(60, 64, 67, 0.15);\n",
              "      fill: #174EA6;\n",
              "    }\n",
              "\n",
              "    .colab-df-buttons div {\n",
              "      margin-bottom: 4px;\n",
              "    }\n",
              "\n",
              "    [theme=dark] .colab-df-convert {\n",
              "      background-color: #3B4455;\n",
              "      fill: #D2E3FC;\n",
              "    }\n",
              "\n",
              "    [theme=dark] .colab-df-convert:hover {\n",
              "      background-color: #434B5C;\n",
              "      box-shadow: 0px 1px 3px 1px rgba(0, 0, 0, 0.15);\n",
              "      filter: drop-shadow(0px 1px 2px rgba(0, 0, 0, 0.3));\n",
              "      fill: #FFFFFF;\n",
              "    }\n",
              "  </style>\n",
              "\n",
              "    <script>\n",
              "      const buttonEl =\n",
              "        document.querySelector('#df-034512e2-6e9e-4a92-aae3-6136f3501c64 button.colab-df-convert');\n",
              "      buttonEl.style.display =\n",
              "        google.colab.kernel.accessAllowed ? 'block' : 'none';\n",
              "\n",
              "      async function convertToInteractive(key) {\n",
              "        const element = document.querySelector('#df-034512e2-6e9e-4a92-aae3-6136f3501c64');\n",
              "        const dataTable =\n",
              "          await google.colab.kernel.invokeFunction('convertToInteractive',\n",
              "                                                    [key], {});\n",
              "        if (!dataTable) return;\n",
              "\n",
              "        const docLinkHtml = 'Like what you see? Visit the ' +\n",
              "          '<a target=\"_blank\" href=https://colab.research.google.com/notebooks/data_table.ipynb>data table notebook</a>'\n",
              "          + ' to learn more about interactive tables.';\n",
              "        element.innerHTML = '';\n",
              "        dataTable['output_type'] = 'display_data';\n",
              "        await google.colab.output.renderOutput(dataTable, element);\n",
              "        const docLink = document.createElement('div');\n",
              "        docLink.innerHTML = docLinkHtml;\n",
              "        element.appendChild(docLink);\n",
              "      }\n",
              "    </script>\n",
              "  </div>\n",
              "\n",
              "\n",
              "<div id=\"df-59bf3cfa-821d-4979-884a-fec5a9f09542\">\n",
              "  <button class=\"colab-df-quickchart\" onclick=\"quickchart('df-59bf3cfa-821d-4979-884a-fec5a9f09542')\"\n",
              "            title=\"Suggest charts\"\n",
              "            style=\"display:none;\">\n",
              "\n",
              "<svg xmlns=\"http://www.w3.org/2000/svg\" height=\"24px\"viewBox=\"0 0 24 24\"\n",
              "     width=\"24px\">\n",
              "    <g>\n",
              "        <path d=\"M19 3H5c-1.1 0-2 .9-2 2v14c0 1.1.9 2 2 2h14c1.1 0 2-.9 2-2V5c0-1.1-.9-2-2-2zM9 17H7v-7h2v7zm4 0h-2V7h2v10zm4 0h-2v-4h2v4z\"/>\n",
              "    </g>\n",
              "</svg>\n",
              "  </button>\n",
              "\n",
              "<style>\n",
              "  .colab-df-quickchart {\n",
              "      --bg-color: #E8F0FE;\n",
              "      --fill-color: #1967D2;\n",
              "      --hover-bg-color: #E2EBFA;\n",
              "      --hover-fill-color: #174EA6;\n",
              "      --disabled-fill-color: #AAA;\n",
              "      --disabled-bg-color: #DDD;\n",
              "  }\n",
              "\n",
              "  [theme=dark] .colab-df-quickchart {\n",
              "      --bg-color: #3B4455;\n",
              "      --fill-color: #D2E3FC;\n",
              "      --hover-bg-color: #434B5C;\n",
              "      --hover-fill-color: #FFFFFF;\n",
              "      --disabled-bg-color: #3B4455;\n",
              "      --disabled-fill-color: #666;\n",
              "  }\n",
              "\n",
              "  .colab-df-quickchart {\n",
              "    background-color: var(--bg-color);\n",
              "    border: none;\n",
              "    border-radius: 50%;\n",
              "    cursor: pointer;\n",
              "    display: none;\n",
              "    fill: var(--fill-color);\n",
              "    height: 32px;\n",
              "    padding: 0;\n",
              "    width: 32px;\n",
              "  }\n",
              "\n",
              "  .colab-df-quickchart:hover {\n",
              "    background-color: var(--hover-bg-color);\n",
              "    box-shadow: 0 1px 2px rgba(60, 64, 67, 0.3), 0 1px 3px 1px rgba(60, 64, 67, 0.15);\n",
              "    fill: var(--button-hover-fill-color);\n",
              "  }\n",
              "\n",
              "  .colab-df-quickchart-complete:disabled,\n",
              "  .colab-df-quickchart-complete:disabled:hover {\n",
              "    background-color: var(--disabled-bg-color);\n",
              "    fill: var(--disabled-fill-color);\n",
              "    box-shadow: none;\n",
              "  }\n",
              "\n",
              "  .colab-df-spinner {\n",
              "    border: 2px solid var(--fill-color);\n",
              "    border-color: transparent;\n",
              "    border-bottom-color: var(--fill-color);\n",
              "    animation:\n",
              "      spin 1s steps(1) infinite;\n",
              "  }\n",
              "\n",
              "  @keyframes spin {\n",
              "    0% {\n",
              "      border-color: transparent;\n",
              "      border-bottom-color: var(--fill-color);\n",
              "      border-left-color: var(--fill-color);\n",
              "    }\n",
              "    20% {\n",
              "      border-color: transparent;\n",
              "      border-left-color: var(--fill-color);\n",
              "      border-top-color: var(--fill-color);\n",
              "    }\n",
              "    30% {\n",
              "      border-color: transparent;\n",
              "      border-left-color: var(--fill-color);\n",
              "      border-top-color: var(--fill-color);\n",
              "      border-right-color: var(--fill-color);\n",
              "    }\n",
              "    40% {\n",
              "      border-color: transparent;\n",
              "      border-right-color: var(--fill-color);\n",
              "      border-top-color: var(--fill-color);\n",
              "    }\n",
              "    60% {\n",
              "      border-color: transparent;\n",
              "      border-right-color: var(--fill-color);\n",
              "    }\n",
              "    80% {\n",
              "      border-color: transparent;\n",
              "      border-right-color: var(--fill-color);\n",
              "      border-bottom-color: var(--fill-color);\n",
              "    }\n",
              "    90% {\n",
              "      border-color: transparent;\n",
              "      border-bottom-color: var(--fill-color);\n",
              "    }\n",
              "  }\n",
              "</style>\n",
              "\n",
              "  <script>\n",
              "    async function quickchart(key) {\n",
              "      const quickchartButtonEl =\n",
              "        document.querySelector('#' + key + ' button');\n",
              "      quickchartButtonEl.disabled = true;  // To prevent multiple clicks.\n",
              "      quickchartButtonEl.classList.add('colab-df-spinner');\n",
              "      try {\n",
              "        const charts = await google.colab.kernel.invokeFunction(\n",
              "            'suggestCharts', [key], {});\n",
              "      } catch (error) {\n",
              "        console.error('Error during call to suggestCharts:', error);\n",
              "      }\n",
              "      quickchartButtonEl.classList.remove('colab-df-spinner');\n",
              "      quickchartButtonEl.classList.add('colab-df-quickchart-complete');\n",
              "    }\n",
              "    (() => {\n",
              "      let quickchartButtonEl =\n",
              "        document.querySelector('#df-59bf3cfa-821d-4979-884a-fec5a9f09542 button');\n",
              "      quickchartButtonEl.style.display =\n",
              "        google.colab.kernel.accessAllowed ? 'block' : 'none';\n",
              "    })();\n",
              "  </script>\n",
              "</div>\n",
              "\n",
              "    </div>\n",
              "  </div>\n"
            ],
            "application/vnd.google.colaboratory.intrinsic+json": {
              "type": "dataframe",
              "variable_name": "df",
              "summary": "{\n  \"name\": \"df\",\n  \"rows\": 5157,\n  \"fields\": [\n    {\n      \"column\": \"Category\",\n      \"properties\": {\n        \"dtype\": \"number\",\n        \"std\": 0,\n        \"min\": 0,\n        \"max\": 1,\n        \"num_unique_values\": 2,\n        \"samples\": [\n          1,\n          0\n        ],\n        \"semantic_type\": \"\",\n        \"description\": \"\"\n      }\n    },\n    {\n      \"column\": \"Message\",\n      \"properties\": {\n        \"dtype\": \"string\",\n        \"num_unique_values\": 5157,\n        \"samples\": [\n          \"Also sir, i sent you an email about how to log into the usc payment portal. I.ll send you another message that should explain how things are back home. Have a great weekend.\",\n          \"Are you free now?can i call now?\"\n        ],\n        \"semantic_type\": \"\",\n        \"description\": \"\"\n      }\n    }\n  ]\n}"
            }
          },
          "metadata": {},
          "execution_count": 98
        }
      ]
    },
    {
      "cell_type": "code",
      "source": [
        "import seaborn as sns"
      ],
      "metadata": {
        "id": "Igg3Z1CcDe5A"
      },
      "execution_count": null,
      "outputs": []
    },
    {
      "cell_type": "code",
      "source": [
        "import nltk\n",
        "from nltk.corpus import stopwords\n",
        "from nltk.stem import PorterStemmer\n",
        "import string\n",
        "\n",
        "def transform_text(text):\n",
        "    text = text.lower()\n",
        "    text = nltk.word_tokenize(text)\n",
        "\n",
        "    y = []\n",
        "    for i in text:\n",
        "        if i.isalnum():\n",
        "            y.append(i)\n",
        "\n",
        "    text = y[:]\n",
        "    y.clear()\n",
        "    for i in text:\n",
        "        if i not in stopwords.words('english') and i not in string.punctuation:\n",
        "            y.append(i)\n",
        "\n",
        "    text = y[:]\n",
        "    y.clear()\n",
        "\n",
        "    ps = PorterStemmer()\n",
        "    for i in text:\n",
        "        y.append(ps.stem(i))\n",
        "\n",
        "    return \" \".join(y)"
      ],
      "metadata": {
        "id": "JFecyeG4Dg4Q"
      },
      "execution_count": null,
      "outputs": []
    },
    {
      "cell_type": "code",
      "source": [
        "import re\n",
        "\n",
        "def extract_hyperlinks(text):\n",
        "\n",
        "    pattern = r'http[s]?://(?:[a-zA-Z]|[0-9]|[$-_@.&+]|[!*\\\\(\\\\),]|(?:%[0-9a-fA-F][0-9a-fA-F]))+'\n",
        "\n",
        "\n",
        "    hyperlinks = re.findall(pattern, text)\n",
        "\n",
        "\n",
        "    for link in hyperlinks:\n",
        "        text = text.replace(link, f\"'{link}'\")\n",
        "\n",
        "    return text"
      ],
      "metadata": {
        "id": "pMhnLhVuDiin"
      },
      "execution_count": null,
      "outputs": []
    },
    {
      "cell_type": "code",
      "source": [
        "import nltk\n",
        "nltk.download('stopwords')\n",
        "print(transform_text(\"I loved the lectures on Machine Learning. How about you?\"))"
      ],
      "metadata": {
        "colab": {
          "base_uri": "https://localhost:8080/"
        },
        "id": "k5zc0dqbDj3O",
        "outputId": "43db8a87-aa43-41a6-c430-f41b34899965"
      },
      "execution_count": null,
      "outputs": [
        {
          "output_type": "stream",
          "name": "stdout",
          "text": [
            "love lectur machin learn\n"
          ]
        },
        {
          "output_type": "stream",
          "name": "stderr",
          "text": [
            "[nltk_data] Downloading package stopwords to /root/nltk_data...\n",
            "[nltk_data]   Package stopwords is already up-to-date!\n"
          ]
        }
      ]
    },
    {
      "cell_type": "code",
      "source": [
        "print(transform_text('I loved the lectures on Machine Learning. How about you?'))"
      ],
      "metadata": {
        "colab": {
          "base_uri": "https://localhost:8080/"
        },
        "id": "T7RLqflUDlTR",
        "outputId": "d174604f-928b-451b-bee2-365463469969"
      },
      "execution_count": null,
      "outputs": [
        {
          "output_type": "stream",
          "name": "stdout",
          "text": [
            "love lectur machin learn\n"
          ]
        }
      ]
    },
    {
      "cell_type": "code",
      "source": [
        "from nltk.corpus import stopwords\n",
        "stopwords.words('english')"
      ],
      "metadata": {
        "colab": {
          "base_uri": "https://localhost:8080/"
        },
        "id": "_dEaCiLzDmls",
        "outputId": "54ca58e1-8e7b-43ca-912c-bc043b5967aa"
      },
      "execution_count": null,
      "outputs": [
        {
          "output_type": "execute_result",
          "data": {
            "text/plain": [
              "['i',\n",
              " 'me',\n",
              " 'my',\n",
              " 'myself',\n",
              " 'we',\n",
              " 'our',\n",
              " 'ours',\n",
              " 'ourselves',\n",
              " 'you',\n",
              " \"you're\",\n",
              " \"you've\",\n",
              " \"you'll\",\n",
              " \"you'd\",\n",
              " 'your',\n",
              " 'yours',\n",
              " 'yourself',\n",
              " 'yourselves',\n",
              " 'he',\n",
              " 'him',\n",
              " 'his',\n",
              " 'himself',\n",
              " 'she',\n",
              " \"she's\",\n",
              " 'her',\n",
              " 'hers',\n",
              " 'herself',\n",
              " 'it',\n",
              " \"it's\",\n",
              " 'its',\n",
              " 'itself',\n",
              " 'they',\n",
              " 'them',\n",
              " 'their',\n",
              " 'theirs',\n",
              " 'themselves',\n",
              " 'what',\n",
              " 'which',\n",
              " 'who',\n",
              " 'whom',\n",
              " 'this',\n",
              " 'that',\n",
              " \"that'll\",\n",
              " 'these',\n",
              " 'those',\n",
              " 'am',\n",
              " 'is',\n",
              " 'are',\n",
              " 'was',\n",
              " 'were',\n",
              " 'be',\n",
              " 'been',\n",
              " 'being',\n",
              " 'have',\n",
              " 'has',\n",
              " 'had',\n",
              " 'having',\n",
              " 'do',\n",
              " 'does',\n",
              " 'did',\n",
              " 'doing',\n",
              " 'a',\n",
              " 'an',\n",
              " 'the',\n",
              " 'and',\n",
              " 'but',\n",
              " 'if',\n",
              " 'or',\n",
              " 'because',\n",
              " 'as',\n",
              " 'until',\n",
              " 'while',\n",
              " 'of',\n",
              " 'at',\n",
              " 'by',\n",
              " 'for',\n",
              " 'with',\n",
              " 'about',\n",
              " 'against',\n",
              " 'between',\n",
              " 'into',\n",
              " 'through',\n",
              " 'during',\n",
              " 'before',\n",
              " 'after',\n",
              " 'above',\n",
              " 'below',\n",
              " 'to',\n",
              " 'from',\n",
              " 'up',\n",
              " 'down',\n",
              " 'in',\n",
              " 'out',\n",
              " 'on',\n",
              " 'off',\n",
              " 'over',\n",
              " 'under',\n",
              " 'again',\n",
              " 'further',\n",
              " 'then',\n",
              " 'once',\n",
              " 'here',\n",
              " 'there',\n",
              " 'when',\n",
              " 'where',\n",
              " 'why',\n",
              " 'how',\n",
              " 'all',\n",
              " 'any',\n",
              " 'both',\n",
              " 'each',\n",
              " 'few',\n",
              " 'more',\n",
              " 'most',\n",
              " 'other',\n",
              " 'some',\n",
              " 'such',\n",
              " 'no',\n",
              " 'nor',\n",
              " 'not',\n",
              " 'only',\n",
              " 'own',\n",
              " 'same',\n",
              " 'so',\n",
              " 'than',\n",
              " 'too',\n",
              " 'very',\n",
              " 's',\n",
              " 't',\n",
              " 'can',\n",
              " 'will',\n",
              " 'just',\n",
              " 'don',\n",
              " \"don't\",\n",
              " 'should',\n",
              " \"should've\",\n",
              " 'now',\n",
              " 'd',\n",
              " 'll',\n",
              " 'm',\n",
              " 'o',\n",
              " 're',\n",
              " 've',\n",
              " 'y',\n",
              " 'ain',\n",
              " 'aren',\n",
              " \"aren't\",\n",
              " 'couldn',\n",
              " \"couldn't\",\n",
              " 'didn',\n",
              " \"didn't\",\n",
              " 'doesn',\n",
              " \"doesn't\",\n",
              " 'hadn',\n",
              " \"hadn't\",\n",
              " 'hasn',\n",
              " \"hasn't\",\n",
              " 'haven',\n",
              " \"haven't\",\n",
              " 'isn',\n",
              " \"isn't\",\n",
              " 'ma',\n",
              " 'mightn',\n",
              " \"mightn't\",\n",
              " 'mustn',\n",
              " \"mustn't\",\n",
              " 'needn',\n",
              " \"needn't\",\n",
              " 'shan',\n",
              " \"shan't\",\n",
              " 'shouldn',\n",
              " \"shouldn't\",\n",
              " 'wasn',\n",
              " \"wasn't\",\n",
              " 'weren',\n",
              " \"weren't\",\n",
              " 'won',\n",
              " \"won't\",\n",
              " 'wouldn',\n",
              " \"wouldn't\"]"
            ]
          },
          "metadata": {},
          "execution_count": 104
        }
      ]
    },
    {
      "cell_type": "code",
      "source": [
        "import string"
      ],
      "metadata": {
        "id": "6siMDKZJDovf"
      },
      "execution_count": null,
      "outputs": []
    },
    {
      "cell_type": "code",
      "source": [
        "string.punctuation\n",
        "from nltk.stem.porter import PorterStemmer\n",
        "ps=PorterStemmer()\n",
        "df['transMessage'] = df['Message'].apply(transform_text)"
      ],
      "metadata": {
        "id": "CDIe6p-aDrgt"
      },
      "execution_count": null,
      "outputs": []
    },
    {
      "cell_type": "code",
      "source": [
        "df.head()"
      ],
      "metadata": {
        "colab": {
          "base_uri": "https://localhost:8080/",
          "height": 206
        },
        "id": "ONUfn9IeDtXp",
        "outputId": "e72d4d55-6366-4ddb-ab21-0a528db2656a"
      },
      "execution_count": null,
      "outputs": [
        {
          "output_type": "execute_result",
          "data": {
            "text/plain": [
              "   Category                                            Message  \\\n",
              "0         0  Go until jurong point, crazy.. Available only ...   \n",
              "1         0                      Ok lar... Joking wif u oni...   \n",
              "2         1  Free entry in 2 a wkly comp to win FA Cup fina...   \n",
              "3         0  U dun say so early hor... U c already then say...   \n",
              "4         0  Nah I don't think he goes to usf, he lives aro...   \n",
              "\n",
              "                                        transMessage  \n",
              "0  go jurong point crazi avail bugi n great world...  \n",
              "1                              ok lar joke wif u oni  \n",
              "2  free entri 2 wkli comp win fa cup final tkt 21...  \n",
              "3                u dun say earli hor u c alreadi say  \n",
              "4               nah think goe usf live around though  "
            ],
            "text/html": [
              "\n",
              "  <div id=\"df-922acd1a-5402-4e68-ab43-c3aa2f3c9480\" class=\"colab-df-container\">\n",
              "    <div>\n",
              "<style scoped>\n",
              "    .dataframe tbody tr th:only-of-type {\n",
              "        vertical-align: middle;\n",
              "    }\n",
              "\n",
              "    .dataframe tbody tr th {\n",
              "        vertical-align: top;\n",
              "    }\n",
              "\n",
              "    .dataframe thead th {\n",
              "        text-align: right;\n",
              "    }\n",
              "</style>\n",
              "<table border=\"1\" class=\"dataframe\">\n",
              "  <thead>\n",
              "    <tr style=\"text-align: right;\">\n",
              "      <th></th>\n",
              "      <th>Category</th>\n",
              "      <th>Message</th>\n",
              "      <th>transMessage</th>\n",
              "    </tr>\n",
              "  </thead>\n",
              "  <tbody>\n",
              "    <tr>\n",
              "      <th>0</th>\n",
              "      <td>0</td>\n",
              "      <td>Go until jurong point, crazy.. Available only ...</td>\n",
              "      <td>go jurong point crazi avail bugi n great world...</td>\n",
              "    </tr>\n",
              "    <tr>\n",
              "      <th>1</th>\n",
              "      <td>0</td>\n",
              "      <td>Ok lar... Joking wif u oni...</td>\n",
              "      <td>ok lar joke wif u oni</td>\n",
              "    </tr>\n",
              "    <tr>\n",
              "      <th>2</th>\n",
              "      <td>1</td>\n",
              "      <td>Free entry in 2 a wkly comp to win FA Cup fina...</td>\n",
              "      <td>free entri 2 wkli comp win fa cup final tkt 21...</td>\n",
              "    </tr>\n",
              "    <tr>\n",
              "      <th>3</th>\n",
              "      <td>0</td>\n",
              "      <td>U dun say so early hor... U c already then say...</td>\n",
              "      <td>u dun say earli hor u c alreadi say</td>\n",
              "    </tr>\n",
              "    <tr>\n",
              "      <th>4</th>\n",
              "      <td>0</td>\n",
              "      <td>Nah I don't think he goes to usf, he lives aro...</td>\n",
              "      <td>nah think goe usf live around though</td>\n",
              "    </tr>\n",
              "  </tbody>\n",
              "</table>\n",
              "</div>\n",
              "    <div class=\"colab-df-buttons\">\n",
              "\n",
              "  <div class=\"colab-df-container\">\n",
              "    <button class=\"colab-df-convert\" onclick=\"convertToInteractive('df-922acd1a-5402-4e68-ab43-c3aa2f3c9480')\"\n",
              "            title=\"Convert this dataframe to an interactive table.\"\n",
              "            style=\"display:none;\">\n",
              "\n",
              "  <svg xmlns=\"http://www.w3.org/2000/svg\" height=\"24px\" viewBox=\"0 -960 960 960\">\n",
              "    <path d=\"M120-120v-720h720v720H120Zm60-500h600v-160H180v160Zm220 220h160v-160H400v160Zm0 220h160v-160H400v160ZM180-400h160v-160H180v160Zm440 0h160v-160H620v160ZM180-180h160v-160H180v160Zm440 0h160v-160H620v160Z\"/>\n",
              "  </svg>\n",
              "    </button>\n",
              "\n",
              "  <style>\n",
              "    .colab-df-container {\n",
              "      display:flex;\n",
              "      gap: 12px;\n",
              "    }\n",
              "\n",
              "    .colab-df-convert {\n",
              "      background-color: #E8F0FE;\n",
              "      border: none;\n",
              "      border-radius: 50%;\n",
              "      cursor: pointer;\n",
              "      display: none;\n",
              "      fill: #1967D2;\n",
              "      height: 32px;\n",
              "      padding: 0 0 0 0;\n",
              "      width: 32px;\n",
              "    }\n",
              "\n",
              "    .colab-df-convert:hover {\n",
              "      background-color: #E2EBFA;\n",
              "      box-shadow: 0px 1px 2px rgba(60, 64, 67, 0.3), 0px 1px 3px 1px rgba(60, 64, 67, 0.15);\n",
              "      fill: #174EA6;\n",
              "    }\n",
              "\n",
              "    .colab-df-buttons div {\n",
              "      margin-bottom: 4px;\n",
              "    }\n",
              "\n",
              "    [theme=dark] .colab-df-convert {\n",
              "      background-color: #3B4455;\n",
              "      fill: #D2E3FC;\n",
              "    }\n",
              "\n",
              "    [theme=dark] .colab-df-convert:hover {\n",
              "      background-color: #434B5C;\n",
              "      box-shadow: 0px 1px 3px 1px rgba(0, 0, 0, 0.15);\n",
              "      filter: drop-shadow(0px 1px 2px rgba(0, 0, 0, 0.3));\n",
              "      fill: #FFFFFF;\n",
              "    }\n",
              "  </style>\n",
              "\n",
              "    <script>\n",
              "      const buttonEl =\n",
              "        document.querySelector('#df-922acd1a-5402-4e68-ab43-c3aa2f3c9480 button.colab-df-convert');\n",
              "      buttonEl.style.display =\n",
              "        google.colab.kernel.accessAllowed ? 'block' : 'none';\n",
              "\n",
              "      async function convertToInteractive(key) {\n",
              "        const element = document.querySelector('#df-922acd1a-5402-4e68-ab43-c3aa2f3c9480');\n",
              "        const dataTable =\n",
              "          await google.colab.kernel.invokeFunction('convertToInteractive',\n",
              "                                                    [key], {});\n",
              "        if (!dataTable) return;\n",
              "\n",
              "        const docLinkHtml = 'Like what you see? Visit the ' +\n",
              "          '<a target=\"_blank\" href=https://colab.research.google.com/notebooks/data_table.ipynb>data table notebook</a>'\n",
              "          + ' to learn more about interactive tables.';\n",
              "        element.innerHTML = '';\n",
              "        dataTable['output_type'] = 'display_data';\n",
              "        await google.colab.output.renderOutput(dataTable, element);\n",
              "        const docLink = document.createElement('div');\n",
              "        docLink.innerHTML = docLinkHtml;\n",
              "        element.appendChild(docLink);\n",
              "      }\n",
              "    </script>\n",
              "  </div>\n",
              "\n",
              "\n",
              "<div id=\"df-92d80641-c4a6-4a8f-841f-7ffd6ef385b6\">\n",
              "  <button class=\"colab-df-quickchart\" onclick=\"quickchart('df-92d80641-c4a6-4a8f-841f-7ffd6ef385b6')\"\n",
              "            title=\"Suggest charts\"\n",
              "            style=\"display:none;\">\n",
              "\n",
              "<svg xmlns=\"http://www.w3.org/2000/svg\" height=\"24px\"viewBox=\"0 0 24 24\"\n",
              "     width=\"24px\">\n",
              "    <g>\n",
              "        <path d=\"M19 3H5c-1.1 0-2 .9-2 2v14c0 1.1.9 2 2 2h14c1.1 0 2-.9 2-2V5c0-1.1-.9-2-2-2zM9 17H7v-7h2v7zm4 0h-2V7h2v10zm4 0h-2v-4h2v4z\"/>\n",
              "    </g>\n",
              "</svg>\n",
              "  </button>\n",
              "\n",
              "<style>\n",
              "  .colab-df-quickchart {\n",
              "      --bg-color: #E8F0FE;\n",
              "      --fill-color: #1967D2;\n",
              "      --hover-bg-color: #E2EBFA;\n",
              "      --hover-fill-color: #174EA6;\n",
              "      --disabled-fill-color: #AAA;\n",
              "      --disabled-bg-color: #DDD;\n",
              "  }\n",
              "\n",
              "  [theme=dark] .colab-df-quickchart {\n",
              "      --bg-color: #3B4455;\n",
              "      --fill-color: #D2E3FC;\n",
              "      --hover-bg-color: #434B5C;\n",
              "      --hover-fill-color: #FFFFFF;\n",
              "      --disabled-bg-color: #3B4455;\n",
              "      --disabled-fill-color: #666;\n",
              "  }\n",
              "\n",
              "  .colab-df-quickchart {\n",
              "    background-color: var(--bg-color);\n",
              "    border: none;\n",
              "    border-radius: 50%;\n",
              "    cursor: pointer;\n",
              "    display: none;\n",
              "    fill: var(--fill-color);\n",
              "    height: 32px;\n",
              "    padding: 0;\n",
              "    width: 32px;\n",
              "  }\n",
              "\n",
              "  .colab-df-quickchart:hover {\n",
              "    background-color: var(--hover-bg-color);\n",
              "    box-shadow: 0 1px 2px rgba(60, 64, 67, 0.3), 0 1px 3px 1px rgba(60, 64, 67, 0.15);\n",
              "    fill: var(--button-hover-fill-color);\n",
              "  }\n",
              "\n",
              "  .colab-df-quickchart-complete:disabled,\n",
              "  .colab-df-quickchart-complete:disabled:hover {\n",
              "    background-color: var(--disabled-bg-color);\n",
              "    fill: var(--disabled-fill-color);\n",
              "    box-shadow: none;\n",
              "  }\n",
              "\n",
              "  .colab-df-spinner {\n",
              "    border: 2px solid var(--fill-color);\n",
              "    border-color: transparent;\n",
              "    border-bottom-color: var(--fill-color);\n",
              "    animation:\n",
              "      spin 1s steps(1) infinite;\n",
              "  }\n",
              "\n",
              "  @keyframes spin {\n",
              "    0% {\n",
              "      border-color: transparent;\n",
              "      border-bottom-color: var(--fill-color);\n",
              "      border-left-color: var(--fill-color);\n",
              "    }\n",
              "    20% {\n",
              "      border-color: transparent;\n",
              "      border-left-color: var(--fill-color);\n",
              "      border-top-color: var(--fill-color);\n",
              "    }\n",
              "    30% {\n",
              "      border-color: transparent;\n",
              "      border-left-color: var(--fill-color);\n",
              "      border-top-color: var(--fill-color);\n",
              "      border-right-color: var(--fill-color);\n",
              "    }\n",
              "    40% {\n",
              "      border-color: transparent;\n",
              "      border-right-color: var(--fill-color);\n",
              "      border-top-color: var(--fill-color);\n",
              "    }\n",
              "    60% {\n",
              "      border-color: transparent;\n",
              "      border-right-color: var(--fill-color);\n",
              "    }\n",
              "    80% {\n",
              "      border-color: transparent;\n",
              "      border-right-color: var(--fill-color);\n",
              "      border-bottom-color: var(--fill-color);\n",
              "    }\n",
              "    90% {\n",
              "      border-color: transparent;\n",
              "      border-bottom-color: var(--fill-color);\n",
              "    }\n",
              "  }\n",
              "</style>\n",
              "\n",
              "  <script>\n",
              "    async function quickchart(key) {\n",
              "      const quickchartButtonEl =\n",
              "        document.querySelector('#' + key + ' button');\n",
              "      quickchartButtonEl.disabled = true;  // To prevent multiple clicks.\n",
              "      quickchartButtonEl.classList.add('colab-df-spinner');\n",
              "      try {\n",
              "        const charts = await google.colab.kernel.invokeFunction(\n",
              "            'suggestCharts', [key], {});\n",
              "      } catch (error) {\n",
              "        console.error('Error during call to suggestCharts:', error);\n",
              "      }\n",
              "      quickchartButtonEl.classList.remove('colab-df-spinner');\n",
              "      quickchartButtonEl.classList.add('colab-df-quickchart-complete');\n",
              "    }\n",
              "    (() => {\n",
              "      let quickchartButtonEl =\n",
              "        document.querySelector('#df-92d80641-c4a6-4a8f-841f-7ffd6ef385b6 button');\n",
              "      quickchartButtonEl.style.display =\n",
              "        google.colab.kernel.accessAllowed ? 'block' : 'none';\n",
              "    })();\n",
              "  </script>\n",
              "</div>\n",
              "\n",
              "    </div>\n",
              "  </div>\n"
            ],
            "application/vnd.google.colaboratory.intrinsic+json": {
              "type": "dataframe",
              "variable_name": "df",
              "summary": "{\n  \"name\": \"df\",\n  \"rows\": 5157,\n  \"fields\": [\n    {\n      \"column\": \"Category\",\n      \"properties\": {\n        \"dtype\": \"number\",\n        \"std\": 0,\n        \"min\": 0,\n        \"max\": 1,\n        \"num_unique_values\": 2,\n        \"samples\": [\n          1,\n          0\n        ],\n        \"semantic_type\": \"\",\n        \"description\": \"\"\n      }\n    },\n    {\n      \"column\": \"Message\",\n      \"properties\": {\n        \"dtype\": \"string\",\n        \"num_unique_values\": 5157,\n        \"samples\": [\n          \"Also sir, i sent you an email about how to log into the usc payment portal. I.ll send you another message that should explain how things are back home. Have a great weekend.\",\n          \"Are you free now?can i call now?\"\n        ],\n        \"semantic_type\": \"\",\n        \"description\": \"\"\n      }\n    },\n    {\n      \"column\": \"transMessage\",\n      \"properties\": {\n        \"dtype\": \"string\",\n        \"num_unique_values\": 5097,\n        \"samples\": [\n          \"pattern recent crap weekend\",\n          \"everi monday nxt week vl complet\"\n        ],\n        \"semantic_type\": \"\",\n        \"description\": \"\"\n      }\n    }\n  ]\n}"
            }
          },
          "metadata": {},
          "execution_count": 107
        }
      ]
    },
    {
      "cell_type": "code",
      "source": [
        "from sklearn.feature_extraction.text import CountVectorizer\n",
        "cv=CountVectorizer()"
      ],
      "metadata": {
        "id": "pxFzrugRDv34"
      },
      "execution_count": null,
      "outputs": []
    },
    {
      "cell_type": "code",
      "source": [
        "X=cv.fit_transform(df['transMessage']).toarray()"
      ],
      "metadata": {
        "id": "TA7k9TP3Dy4x"
      },
      "execution_count": null,
      "outputs": []
    },
    {
      "cell_type": "code",
      "source": [
        "X"
      ],
      "metadata": {
        "colab": {
          "base_uri": "https://localhost:8080/"
        },
        "id": "PtWSjrFCD0q1",
        "outputId": "babed0e2-16c6-4822-ae21-aecdc676bcd5"
      },
      "execution_count": null,
      "outputs": [
        {
          "output_type": "execute_result",
          "data": {
            "text/plain": [
              "array([[0, 0, 0, ..., 0, 0, 0],\n",
              "       [0, 0, 0, ..., 0, 0, 0],\n",
              "       [0, 0, 0, ..., 0, 0, 0],\n",
              "       ...,\n",
              "       [0, 0, 0, ..., 0, 0, 0],\n",
              "       [0, 0, 0, ..., 0, 0, 0],\n",
              "       [0, 0, 0, ..., 0, 0, 0]])"
            ]
          },
          "metadata": {},
          "execution_count": 110
        }
      ]
    },
    {
      "cell_type": "code",
      "source": [
        "X.shape\n",
        "Y = df['Category'].values\n",
        "Y"
      ],
      "metadata": {
        "colab": {
          "base_uri": "https://localhost:8080/"
        },
        "id": "Qk95S5DUD2CS",
        "outputId": "02be0b02-01dc-4d2c-bce2-a0eae9ea1c6d"
      },
      "execution_count": null,
      "outputs": [
        {
          "output_type": "execute_result",
          "data": {
            "text/plain": [
              "array([0, 0, 1, ..., 0, 0, 0])"
            ]
          },
          "metadata": {},
          "execution_count": 111
        }
      ]
    },
    {
      "cell_type": "code",
      "source": [
        "X_train, X_test, y_train, y_test = train_test_split(X, Y, test_size=0.25, random_state=2)"
      ],
      "metadata": {
        "id": "Cb8ISlGjD3cf"
      },
      "execution_count": null,
      "outputs": []
    },
    {
      "cell_type": "code",
      "source": [
        "import time\n",
        "from sklearn.neighbors import KNeighborsClassifier\n",
        "from sklearn.metrics import accuracy_score, confusion_matrix, precision_score, recall_score, f1_score\n",
        "\n",
        "# Initialize the classifier\n",
        "knnc = KNeighborsClassifier(n_neighbors=1)\n",
        "\n",
        "# Measure the training time\n",
        "start_time = time.time()\n",
        "knnc.fit(X_train, y_train)\n",
        "training_time = time.time() - start_time\n",
        "\n",
        "# Measure the testing time\n",
        "start_time = time.time()\n",
        "predictions = knnc.predict(X_test)\n",
        "testing_time = time.time() - start_time\n",
        "\n",
        "# Calculate and print metrics\n",
        "accuracy = accuracy_score(y_test, predictions)\n",
        "precision = precision_score(y_test, predictions, average='weighted')\n",
        "recall = recall_score(y_test, predictions, average='weighted')\n",
        "f1 = f1_score(y_test, predictions, average='weighted')\n",
        "conf_matrix = confusion_matrix(y_test, predictions)\n",
        "\n",
        "print('Accuracy of KNN:', accuracy)\n",
        "print('Precision of KNN:', precision)\n",
        "print('Recall of KNN:', recall)\n",
        "print('F1 Score of KNN:', f1)\n",
        "print('Confusion Matrix:')\n",
        "print(conf_matrix)\n",
        "print('Training Time:', training_time, 'seconds')\n",
        "print('Testing Time:', testing_time, 'seconds')\n"
      ],
      "metadata": {
        "id": "cM7jTTgVD5fP",
        "colab": {
          "base_uri": "https://localhost:8080/"
        },
        "outputId": "54a1c31e-7fed-4b17-f678-9221ea96d81d"
      },
      "execution_count": null,
      "outputs": [
        {
          "output_type": "stream",
          "name": "stdout",
          "text": [
            "Accuracy of KNN: 0.9434108527131783\n",
            "Precision of KNN: 0.9468504928063822\n",
            "Recall of KNN: 0.9434108527131783\n",
            "F1 Score of KNN: 0.936068616583821\n",
            "Confusion Matrix:\n",
            "[[1128    0]\n",
            " [  73   89]]\n",
            "Training Time: 0.0018372535705566406 seconds\n",
            "Testing Time: 3.6316325664520264 seconds\n"
          ]
        }
      ]
    },
    {
      "cell_type": "code",
      "source": [
        "import time\n",
        "from sklearn.svm import SVC\n",
        "from sklearn.metrics import accuracy_score, confusion_matrix, precision_score, recall_score, f1_score\n",
        "\n",
        "# Create an SVM classifier with a specified random state for reproducibility\n",
        "svm_classifier = SVC(random_state=1)\n",
        "\n",
        "# Measure the training time\n",
        "start_time = time.time()\n",
        "svm_classifier.fit(X_train, y_train)\n",
        "training_time = time.time() - start_time\n",
        "\n",
        "# Measure the testing time\n",
        "start_time = time.time()\n",
        "predictions = svm_classifier.predict(X_test)\n",
        "testing_time = time.time() - start_time\n",
        "\n",
        "# Calculate and print metrics\n",
        "accuracy = accuracy_score(y_test, predictions)\n",
        "precision = precision_score(y_test, predictions, average='weighted')\n",
        "recall = recall_score(y_test, predictions, average='weighted')\n",
        "f1 = f1_score(y_test, predictions, average='weighted')\n",
        "conf_matrix = confusion_matrix(y_test, predictions)\n",
        "\n",
        "print('Accuracy of SVM:', accuracy)\n",
        "print('Precision of SVM:', precision)\n",
        "print('Recall of SVM:', recall)\n",
        "print('F1 Score of SVM:', f1)\n",
        "print('Confusion Matrix:')\n",
        "print(conf_matrix)\n",
        "print('Training Time:', training_time, 'seconds')\n",
        "print('Testing Time:', testing_time, 'seconds')\n"
      ],
      "metadata": {
        "colab": {
          "base_uri": "https://localhost:8080/"
        },
        "id": "3pBATznl4Cw5",
        "outputId": "513ed08f-52c5-4432-c80d-97ace97c4e83"
      },
      "execution_count": null,
      "outputs": [
        {
          "output_type": "stream",
          "name": "stdout",
          "text": [
            "Accuracy of SVM: 0.9689922480620154\n",
            "Precision of SVM: 0.9697399692976418\n",
            "Recall of SVM: 0.9689922480620154\n",
            "F1 Score of SVM: 0.9671891134756851\n",
            "Confusion Matrix:\n",
            "[[1127    1]\n",
            " [  39  123]]\n",
            "Training Time: 28.585968017578125 seconds\n",
            "Testing Time: 15.465097904205322 seconds\n"
          ]
        }
      ]
    },
    {
      "cell_type": "code",
      "source": [
        "# from sklearn.svm import SVC\n",
        "# from sklearn.metrics import accuracy_score, confusion_matrix, precision_score\n",
        "\n",
        "# # Create an SVM classifier with a specified random state for reproducibility\n",
        "# svm_classifier = SVC(random_state=1)\n",
        "\n",
        "# # Fit the model to the training data\n",
        "# svm_classifier.fit(X_train, y_train)\n",
        "\n",
        "# # Predict the labels for the test data\n",
        "# predictions = svm_classifier.predict(X_test)\n",
        "\n",
        "# # Print the accuracy of the SVM\n",
        "# print('Accuracy of SVM:')\n",
        "# print(accuracy_score(predictions, y_test))\n",
        "\n",
        "# # Print the confusion matrix\n",
        "# print(confusion_matrix(predictions, y_test))\n",
        "\n",
        "# # Print the precision score\n",
        "# print(precision_score(predictions, y_test, average='weighted'))  # Use average='weighted' for multi-class classification\n"
      ],
      "metadata": {
        "id": "oZE0CnsAD9Ur"
      },
      "execution_count": null,
      "outputs": []
    },
    {
      "cell_type": "code",
      "source": [
        "import time\n",
        "from sklearn.tree import DecisionTreeClassifier\n",
        "from sklearn.metrics import accuracy_score, confusion_matrix, precision_score, recall_score, f1_score\n",
        "\n",
        "# Create a Decision Tree classifier with a specified random state and max depth\n",
        "clf = DecisionTreeClassifier(random_state=1, max_depth=40)\n",
        "\n",
        "# Measure the training time\n",
        "start_time = time.time()\n",
        "clf.fit(X_train, y_train)\n",
        "training_time = time.time() - start_time\n",
        "\n",
        "# Measure the testing time\n",
        "start_time = time.time()\n",
        "pred = clf.predict(X_test)\n",
        "testing_time = time.time() - start_time\n",
        "\n",
        "# Calculate and print metrics\n",
        "accuracy = accuracy_score(y_test, pred)\n",
        "precision = precision_score(y_test, pred, average='weighted')\n",
        "recall = recall_score(y_test, pred, average='weighted')\n",
        "f1 = f1_score(y_test, pred, average='weighted')\n",
        "conf_matrix = confusion_matrix(y_test, pred)\n",
        "\n",
        "print('Accuracy of Decision Tree:', accuracy)\n",
        "print('Precision of Decision Tree:', precision)\n",
        "print('Recall of Decision Tree:', recall)\n",
        "print('F1 Score of Decision Tree:', f1)\n",
        "print('Confusion Matrix:')\n",
        "print(conf_matrix)\n",
        "print('Training Time:', training_time, 'seconds')\n",
        "print('Testing Time:', testing_time, 'seconds')\n"
      ],
      "metadata": {
        "id": "2Z00_s-8EBee",
        "colab": {
          "base_uri": "https://localhost:8080/"
        },
        "outputId": "29176931-5370-4810-df73-d5fc9bea0f55"
      },
      "execution_count": null,
      "outputs": [
        {
          "output_type": "stream",
          "name": "stdout",
          "text": [
            "Accuracy of Decision Tree: 0.962015503875969\n",
            "Precision of Decision Tree: 0.9611938890247858\n",
            "Recall of Decision Tree: 0.962015503875969\n",
            "F1 Score of Decision Tree: 0.9602635226947482\n",
            "Confusion Matrix:\n",
            "[[1119    9]\n",
            " [  40  122]]\n",
            "Training Time: 10.10494613647461 seconds\n",
            "Testing Time: 0.021634340286254883 seconds\n"
          ]
        }
      ]
    },
    {
      "cell_type": "code",
      "source": [
        "# clf.fit(X_train, y_train)\n",
        "# pred=clf.predict(X_test)"
      ],
      "metadata": {
        "id": "Y3OeYumLEPn4"
      },
      "execution_count": null,
      "outputs": []
    },
    {
      "cell_type": "code",
      "source": [
        "# print('Accuracy of Decision Tree:-')\n",
        "# print(accuracy_score(pred,y_test))\n",
        "# print(confusion_matrix(pred,y_test))\n",
        "# print(precision_score(pred,y_test))"
      ],
      "metadata": {
        "id": "TsOY8UdRERG2"
      },
      "execution_count": null,
      "outputs": []
    },
    {
      "cell_type": "code",
      "source": [
        "from sklearn.ensemble import StackingClassifier"
      ],
      "metadata": {
        "id": "XQhp8FgrEStp"
      },
      "execution_count": null,
      "outputs": []
    },
    {
      "cell_type": "code",
      "source": [
        "import time\n",
        "from sklearn.svm import SVC\n",
        "from sklearn.neighbors import KNeighborsClassifier\n",
        "from sklearn.ensemble import StackingClassifier\n",
        "from sklearn.metrics import accuracy_score, precision_score, recall_score, f1_score, confusion_matrix\n",
        "\n",
        "# Define the base classifiers\n",
        "base_classifiers = [\n",
        "    ('svm', SVC(kernel='linear', random_state=40, probability=True)),  # SVM with linear kernel\n",
        "    ('knn', KNeighborsClassifier(n_neighbors=1))\n",
        "]\n",
        "\n",
        "# Define the meta-classifier\n",
        "meta_classifier = KNeighborsClassifier(n_neighbors=1)\n",
        "\n",
        "# Define the stacking classifier\n",
        "stacking_classifier = StackingClassifier(estimators=base_classifiers, final_estimator=meta_classifier)\n",
        "\n",
        "# Measure the training time\n",
        "start_time = time.time()\n",
        "stacking_classifier.fit(X_train, y_train)\n",
        "training_time = time.time() - start_time\n",
        "\n",
        "# Measure the testing time\n",
        "start_time = time.time()\n",
        "pred = stacking_classifier.predict(X_test)\n",
        "testing_time = time.time() - start_time\n",
        "\n",
        "# Calculate and print metrics\n",
        "accuracy = accuracy_score(y_test, pred)\n",
        "precision = precision_score(y_test, pred, average='weighted')\n",
        "recall = recall_score(y_test, pred, average='weighted')\n",
        "f1 = f1_score(y_test, pred, average='weighted')\n",
        "conf_matrix = confusion_matrix(y_test, pred)\n",
        "\n",
        "print('Stacking Classifier Accuracy:', accuracy)\n",
        "print('Stacking Classifier Precision:', precision)\n",
        "print('Stacking Classifier Recall:', recall)\n",
        "print('Stacking Classifier F1 Score:', f1)\n",
        "print('Confusion Matrix:')\n",
        "print(conf_matrix)\n",
        "print('Training Time:', training_time, 'seconds')\n",
        "print('Testing Time:', testing_time, 'seconds')\n"
      ],
      "metadata": {
        "colab": {
          "base_uri": "https://localhost:8080/"
        },
        "id": "_vKLBfUe7wfz",
        "outputId": "58b9111a-a1e0-4969-fff4-a1e9ed8c0a7c"
      },
      "execution_count": null,
      "outputs": [
        {
          "output_type": "stream",
          "name": "stdout",
          "text": [
            "Stacking Classifier Accuracy: 0.9674418604651163\n",
            "Stacking Classifier Precision: 0.9670036251431601\n",
            "Stacking Classifier Recall: 0.9674418604651163\n",
            "Stacking Classifier F1 Score: 0.9671778887617656\n",
            "Confusion Matrix:\n",
            "[[1110   18]\n",
            " [  24  138]]\n",
            "Training Time: 299.6481854915619 seconds\n",
            "Testing Time: 6.334444999694824 seconds\n"
          ]
        }
      ]
    },
    {
      "cell_type": "code",
      "source": [
        "# Plot the colorful confusion matrix\n",
        "plt.figure(figsize=(7,5))\n",
        "sns.heatmap(conf_matrix, annot=True, fmt='d', cmap='Blues', xticklabels=stacking_classifier.classes_, yticklabels=stacking_classifier.classes_)\n",
        "plt.xlabel('Predicted')\n",
        "plt.ylabel('True')\n",
        "plt.title('Confusion Matrix')\n",
        "plt.show()"
      ],
      "metadata": {
        "colab": {
          "base_uri": "https://localhost:8080/",
          "height": 487
        },
        "id": "zlojS4P19Ogd",
        "outputId": "0e9e1a20-8b91-4c3e-eb53-dcbb87a6e125"
      },
      "execution_count": null,
      "outputs": [
        {
          "output_type": "display_data",
          "data": {
            "text/plain": [
              "<Figure size 700x500 with 2 Axes>"
            ],
            "image/png": "[encoded data removed]"
          },
          "metadata": {}
        }
      ]
    },
    {
      "cell_type": "code",
      "source": [
        "# from sklearn.svm import SVC\n",
        "# from sklearn.neighbors import KNeighborsClassifier\n",
        "# from sklearn.ensemble import StackingClassifier\n",
        "# from sklearn.metrics import accuracy_score\n",
        "\n",
        "# # Define the base classifiers\n",
        "# base_classifiers = [\n",
        "#     ('svm', SVC(kernel='linear', random_state=40, probability=True)),  # SVM with linear kernel\n",
        "#     ('knn', KNeighborsClassifier(n_neighbors=1))\n",
        "# ]\n",
        "\n",
        "# # Define the meta-classifier\n",
        "# meta_classifier = KNeighborsClassifier(n_neighbors=1)\n",
        "\n",
        "# # Define the stacking classifier\n",
        "# stacking_classifier = StackingClassifier(estimators=base_classifiers, final_estimator=meta_classifier)\n",
        "\n",
        "# # Train the stacking classifier\n",
        "# stacking_classifier.fit(X_train, y_train)\n",
        "\n",
        "# # Evaluate the stacking classifier\n",
        "# accuracy = stacking_classifier.score(X_test, y_test)\n",
        "# print(\"Stacking Classifier Accuracy:\", accuracy)\n"
      ],
      "metadata": {
        "id": "DGJacPbFEUGo"
      },
      "execution_count": null,
      "outputs": []
    },
    {
      "cell_type": "code",
      "source": [
        "# from sklearn.model_selection import train_test_split\n",
        "# from sklearn.tree import DecisionTreeClassifier\n",
        "# from sklearn.neighbors import KNeighborsClassifier\n",
        "# from sklearn.neural_network import MLPClassifier\n",
        "# from sklearn.metrics import accuracy_score\n",
        "# import numpy as np\n",
        "\n",
        "\n",
        "# # Step 2: Build base classifiers\n",
        "# dt_classifier = DecisionTreeClassifier(random_state=42)\n",
        "# dt_classifier.fit(X_train, y_train)\n",
        "\n",
        "# knn_classifier = KNeighborsClassifier(n_neighbors=50)\n",
        "# knn_classifier.fit(X_train, y_train)\n",
        "\n",
        "# # Step 3: Create a meta-classifier (MLP ANN)\n",
        "# # Concatenate predictions of base classifiers with original features\n",
        "# dt_pred_train = dt_classifier.predict(X_train).reshape(-1, 1)\n",
        "# knn_pred_train = knn_classifier.predict(X_train).reshape(-1, 1)\n",
        "# X_train_meta = np.concatenate((X_train, dt_pred_train, knn_pred_train), axis=1)\n",
        "\n",
        "# # Train MLP on concatenated feature set\n",
        "# mlp_classifier = MLPClassifier(hidden_layer_sizes=(100,), max_iter=1000, random_state=42)\n",
        "# mlp_classifier.fit(X_train_meta, y_train)\n",
        "\n",
        "# # Step 4: Stacking\n",
        "# # Concatenate predictions of base classifiers with original features for testing data\n",
        "# dt_pred_test = dt_classifier.predict(X_test).reshape(-1, 1)\n",
        "# knn_pred_test = knn_classifier.predict(X_test).reshape(-1, 1)\n",
        "# X_test_meta = np.concatenate((X_test, dt_pred_test, knn_pred_test), axis=1)\n",
        "# # Use trained MLP to make predictions on concatenated feature set of testing data\n",
        "# y_pred_test = mlp_classifier.predict(X_test_meta)\n",
        "\n",
        "# # Step 5: Evaluate performance\n",
        "# accuracy = accuracy_score(y_test, y_pred_test)\n",
        "# print(\"Accuracy:\", accuracy)\n"
      ],
      "metadata": {
        "id": "oNfGT3QtEVce"
      },
      "execution_count": null,
      "outputs": []
    },
    {
      "cell_type": "code",
      "source": [
        "import time\n",
        "from sklearn.model_selection import train_test_split\n",
        "from sklearn.svm import SVC\n",
        "from sklearn.neighbors import KNeighborsClassifier\n",
        "from sklearn.neural_network import MLPClassifier\n",
        "from sklearn.metrics import accuracy_score, precision_score, recall_score, f1_score\n",
        "\n",
        "\n",
        "# Step 2: Build base classifiers\n",
        "svm_classifier = SVC(kernel='linear', random_state=42, probability=True)  # Using a linear kernel for simplicity\n",
        "start_time = time.time()\n",
        "svm_classifier.fit(X_train, y_train)\n",
        "training_time_svm = time.time() - start_time\n",
        "\n",
        "knn_classifier = KNeighborsClassifier(n_neighbors=50)\n",
        "start_time = time.time()\n",
        "knn_classifier.fit(X_train, y_train)\n",
        "training_time_knn = time.time() - start_time\n",
        "\n",
        "# Step 3: Create a meta-classifier (MLP ANN)\n",
        "# Concatenate predictions of base classifiers with original features\n",
        "svm_pred_train = svm_classifier.predict(X_train).reshape(-1, 1)\n",
        "knn_pred_train = knn_classifier.predict(X_train).reshape(-1, 1)\n",
        "X_train_meta = np.concatenate((X_train, svm_pred_train, knn_pred_train), axis=1)\n",
        "\n",
        "# Train MLP on concatenated feature set\n",
        "mlp_classifier = MLPClassifier(hidden_layer_sizes=(50,), max_iter=500, random_state=42)\n",
        "start_time = time.time()\n",
        "mlp_classifier.fit(X_train_meta, y_train)\n",
        "training_time_mlp = time.time() - start_time\n",
        "\n",
        "# Step 4: Stacking\n",
        "# Concatenate predictions of base classifiers with original features for testing data\n",
        "svm_pred_test = svm_classifier.predict(X_test).reshape(-1, 1)\n",
        "knn_pred_test = knn_classifier.predict(X_test).reshape(-1, 1)\n",
        "X_test_meta = np.concatenate((X_test, svm_pred_test, knn_pred_test), axis=1)\n",
        "\n",
        "# Use trained MLP to make predictions on concatenated feature set of testing data\n",
        "start_time = time.time()\n",
        "y_pred_test = mlp_classifier.predict(X_test_meta)\n",
        "testing_time = time.time() - start_time\n",
        "\n",
        "# Step 5: Evaluate performance\n",
        "accuracy = accuracy_score(y_test, y_pred_test)\n",
        "precision = precision_score(y_test, y_pred_test, average='weighted')\n",
        "recall = recall_score(y_test, y_pred_test, average='weighted')\n",
        "f1 = f1_score(y_test, y_pred_test, average='weighted')\n",
        "\n",
        "print(\"Accuracy:\", accuracy)\n",
        "print(\"Precision:\", precision)\n",
        "print(\"Recall:\", recall)\n",
        "print(\"F1 Score:\", f1)\n",
        "print(\"Training Time (SVM):\", training_time_svm, \"seconds\")\n",
        "print(\"Training Time (KNN):\", training_time_knn, \"seconds\")\n",
        "print(\"Training Time (MLP):\", training_time_mlp, \"seconds\")\n",
        "print(\"Testing Time:\", testing_time, \"seconds\")\n"
      ],
      "metadata": {
        "colab": {
          "base_uri": "https://localhost:8080/"
        },
        "id": "I_ityU-U_UD5",
        "outputId": "be689795-ac20-438e-fe37-baf1a993da95"
      },
      "execution_count": null,
      "outputs": [
        {
          "output_type": "stream",
          "name": "stdout",
          "text": [
            "Accuracy: 0.982170542635659\n",
            "Precision: 0.9825268219748248\n",
            "Recall: 0.982170542635659\n",
            "F1 Score: 0.981579319483541\n",
            "Training Time (SVM): 62.6307852268219 seconds\n",
            "Training Time (KNN): 0.001337289810180664 seconds\n",
            "Training Time (MLP): 32.46801161766052 seconds\n",
            "Testing Time: 0.06703305244445801 seconds\n"
          ]
        }
      ]
    },
    {
      "cell_type": "code",
      "source": [
        "# from sklearn.model_selection import train_test_split\n",
        "# from sklearn.svm import SVC\n",
        "# from sklearn.neighbors import KNeighborsClassifier\n",
        "# from sklearn.neural_network import MLPClassifier\n",
        "# from sklearn.metrics import accuracy_score\n",
        "# import numpy as np\n",
        "\n",
        "# # Step 2: Build base classifiers\n",
        "# svm_classifier = SVC(kernel='linear', random_state=42, probability=True)  # Using a linear kernel for simplicity\n",
        "# svm_classifier.fit(X_train, y_train)\n",
        "\n",
        "# knn_classifier = KNeighborsClassifier(n_neighbors=50)\n",
        "# knn_classifier.fit(X_train, y_train)\n",
        "\n",
        "# # Step 3: Create a meta-classifier (MLP ANN)\n",
        "# # Concatenate predictions of base classifiers with original features\n",
        "# svm_pred_train = svm_classifier.predict(X_train).reshape(-1, 1)\n",
        "# knn_pred_train = knn_classifier.predict(X_train).reshape(-1, 1)\n",
        "# X_train_meta = np.concatenate((X_train, svm_pred_train, knn_pred_train), axis=1)\n",
        "\n",
        "# # Train MLP on concatenated feature set\n",
        "# mlp_classifier = MLPClassifier(hidden_layer_sizes=(50,), max_iter=500, random_state=42)\n",
        "# mlp_classifier.fit(X_train_meta, y_train)\n",
        "\n",
        "# # Step 4: Stacking\n",
        "# # Concatenate predictions of base classifiers with original features for testing data\n",
        "# svm_pred_test = svm_classifier.predict(X_test).reshape(-1, 1)\n",
        "# knn_pred_test = knn_classifier.predict(X_test).reshape(-1, 1)\n",
        "# X_test_meta = np.concatenate((X_test, svm_pred_test, knn_pred_test), axis=1)\n",
        "\n",
        "# # Use trained MLP to make predictions on concatenated feature set of testing data\n",
        "# y_pred_test = mlp_classifier.predict(X_test_meta)\n",
        "\n",
        "# # Step 5: Evaluate performance\n",
        "# accuracy = accuracy_score(y_test, y_pred_test)\n",
        "# print(\"Accuracy:\", accuracy)\n"
      ],
      "metadata": {
        "id": "sN5rwC9NEXAI"
      },
      "execution_count": null,
      "outputs": []
    },
    {
      "cell_type": "code",
      "source": [
        "import time\n",
        "from sklearn.ensemble import VotingClassifier\n",
        "from sklearn.metrics import accuracy_score, confusion_matrix, precision_score, recall_score, f1_score\n",
        "\n",
        "# Initialize the Voting Classifier\n",
        "vc = VotingClassifier(estimators=[('svm', svm_classifier), ('knn', knn_classifier)], voting='hard')\n",
        "\n",
        "# Measure the training time\n",
        "start_time = time.time()\n",
        "vc.fit(X_train, y_train)\n",
        "training_time = time.time() - start_time\n",
        "\n",
        "# Measure the testing time\n",
        "start_time = time.time()\n",
        "pvc = vc.predict(X_test)\n",
        "testing_time = time.time() - start_time\n",
        "\n",
        "# Calculate and print metrics\n",
        "accuracy = accuracy_score(y_test, pvc)\n",
        "precision = precision_score(y_test, pvc, average='weighted', zero_division=0)\n",
        "recall = recall_score(y_test, pvc, average='weighted', zero_division=0)\n",
        "f1 = f1_score(y_test, pvc, average='weighted', zero_division=0)\n",
        "conf_matrix = confusion_matrix(y_test, pvc)\n",
        "\n",
        "print('Accuracy:', accuracy)\n",
        "print('Precision:', precision)\n",
        "print('Recall:', recall)\n",
        "print('F1 Score:', f1)\n",
        "print('Confusion Matrix:')\n",
        "print(conf_matrix)\n",
        "print('Training Time:', training_time, 'seconds')\n",
        "print('Testing Time:', testing_time, 'seconds')\n"
      ],
      "metadata": {
        "colab": {
          "base_uri": "https://localhost:8080/"
        },
        "id": "Et7YvUE2A9vS",
        "outputId": "c6f70674-aac5-446e-c988-cb0cc8741753"
      },
      "execution_count": null,
      "outputs": [
        {
          "output_type": "stream",
          "name": "stdout",
          "text": [
            "Accuracy: 0.8744186046511628\n",
            "Precision: 0.7646078961600866\n",
            "Recall: 0.8744186046511628\n",
            "F1 Score: 0.8158347279127475\n",
            "Confusion Matrix:\n",
            "[[1128    0]\n",
            " [ 162    0]]\n",
            "Training Time: 65.34369611740112 seconds\n",
            "Testing Time: 6.8065056800842285 seconds\n"
          ]
        }
      ]
    },
    {
      "cell_type": "code",
      "source": [
        "from sklearn.metrics import classification_report"
      ],
      "metadata": {
        "id": "7mS8qejjEhka"
      },
      "execution_count": null,
      "outputs": []
    },
    {
      "cell_type": "code",
      "source": [
        "knn_model = KNeighborsClassifier()\n",
        "dt_model = DecisionTreeClassifier()\n",
        "\n",
        "# Fit models on training data\n",
        "knn_model.fit(X_train, y_train)\n",
        "dt_model.fit(X_train, y_train)\n",
        "\n",
        "# Predict classes for test data\n",
        "knn_pred_proba = knn_model.predict_proba(X_test)\n",
        "dt_pred_proba = dt_model.predict_proba(X_test)\n",
        "\n",
        "# Get class labels with highest probability using argmax\n",
        "knn_pred = np.argmax(knn_pred_proba, axis=1)\n",
        "dt_pred = np.argmax(dt_pred_proba, axis=1)\n",
        "\n",
        "# Print predicted class labels\n",
        "print(\"KNN Predictions:\", knn_pred)\n",
        "print(\"DT Predictions:\", dt_pred)"
      ],
      "metadata": {
        "colab": {
          "base_uri": "https://localhost:8080/"
        },
        "id": "CUFAiJxnC6kG",
        "outputId": "c4a55c8a-b58b-48df-b381-5badf87ff64c"
      },
      "execution_count": null,
      "outputs": [
        {
          "output_type": "stream",
          "name": "stdout",
          "text": [
            "KNN Predictions: [0 0 0 ... 0 1 0]\n",
            "DT Predictions: [0 0 0 ... 0 1 0]\n"
          ]
        }
      ]
    },
    {
      "cell_type": "markdown",
      "source": [
        "NOW CHECKING FOR OTHER CLASSIFIERS ALSO"
      ],
      "metadata": {
        "id": "pf92rDr1DGGu"
      }
    },
    {
      "cell_type": "code",
      "source": [
        "import time\n",
        "from sklearn.linear_model import LogisticRegression\n",
        "from sklearn.metrics import accuracy_score, precision_score, recall_score, f1_score\n",
        "\n",
        "# Initialize the Logistic Regression model\n",
        "logreg = LogisticRegression(max_iter=10000)\n",
        "\n",
        "# Measure the training time\n",
        "start_time = time.time()\n",
        "logreg.fit(X_train, y_train)\n",
        "training_time = time.time() - start_time\n",
        "\n",
        "# Measure the testing time\n",
        "start_time = time.time()\n",
        "y_pred = logreg.predict(X_test)\n",
        "testing_time = time.time() - start_time\n",
        "\n",
        "# Calculate and print metrics\n",
        "accuracy = accuracy_score(y_test, y_pred)\n",
        "precision = precision_score(y_test, y_pred, average='weighted')\n",
        "recall = recall_score(y_test, y_pred, average='weighted')\n",
        "f1 = f1_score(y_test, y_pred, average='weighted')\n",
        "\n",
        "print('Accuracy of Logistic Regression:', accuracy)\n",
        "print('Precision of Logistic Regression:', precision)\n",
        "print('Recall of Logistic Regression:', recall)\n",
        "print('F1 Score of Logistic Regression:', f1)\n",
        "print('Training Time:', training_time, 'seconds')\n",
        "print('Testing Time:', testing_time, 'seconds')\n"
      ],
      "metadata": {
        "colab": {
          "base_uri": "https://localhost:8080/"
        },
        "id": "ic3QMK6LC9fe",
        "outputId": "fc6daa61-2c9b-4a74-8dec-ad96ee6536dd"
      },
      "execution_count": null,
      "outputs": [
        {
          "output_type": "stream",
          "name": "stdout",
          "text": [
            "Accuracy of Logistic Regression: 0.9790697674418605\n",
            "Precision of Logistic Regression: 0.9792004886382449\n",
            "Recall of Logistic Regression: 0.9790697674418605\n",
            "F1 Score of Logistic Regression: 0.9783757228719829\n",
            "Training Time: 1.4137518405914307 seconds\n",
            "Testing Time: 0.03348660469055176 seconds\n"
          ]
        }
      ]
    },
    {
      "cell_type": "code",
      "source": [
        "import time\n",
        "from sklearn.ensemble import VotingClassifier\n",
        "from sklearn.metrics import accuracy_score, precision_score, recall_score, f1_score\n",
        "\n",
        "# Initialize the Voting Classifier\n",
        "vc = VotingClassifier(estimators=[('Logistic', logreg), ('knn', knnc)], voting='soft')\n",
        "\n",
        "# Measure the training time\n",
        "start_time = time.time()\n",
        "vc.fit(X_train, y_train)\n",
        "training_time = time.time() - start_time\n",
        "\n",
        "# Measure the testing time\n",
        "start_time = time.time()\n",
        "pvc = vc.predict(X_test)\n",
        "testing_time = time.time() - start_time\n",
        "\n",
        "# Calculate and print metrics\n",
        "accuracy = accuracy_score(y_test, pvc)\n",
        "precision = precision_score(y_test, pvc, average='weighted')\n",
        "recall = recall_score(y_test, pvc, average='weighted')\n",
        "f1 = f1_score(y_test, pvc, average='weighted')\n",
        "\n",
        "print('Accuracy of KNN + Logistic Regression:', accuracy)\n",
        "print('Precision of KNN + Logistic Regression:', precision)\n",
        "print('Recall of KNN + Logistic Regression:', recall)\n",
        "print('F1 Score of KNN + Logistic Regression:', f1)\n",
        "print('Training Time:', training_time, 'seconds')\n",
        "print('Testing Time:', testing_time, 'seconds')\n"
      ],
      "metadata": {
        "colab": {
          "base_uri": "https://localhost:8080/"
        },
        "id": "Y8yBbWpkDaTB",
        "outputId": "6c85ab02-cf31-4565-b46a-4d7d4d7801c6"
      },
      "execution_count": null,
      "outputs": [
        {
          "output_type": "stream",
          "name": "stdout",
          "text": [
            "Accuracy of KNN + Logistic Regression: 0.9434108527131783\n",
            "Precision of KNN + Logistic Regression: 0.9468504928063822\n",
            "Recall of KNN + Logistic Regression: 0.9434108527131783\n",
            "F1 Score of KNN + Logistic Regression: 0.936068616583821\n",
            "Training Time: 1.4681448936462402 seconds\n",
            "Testing Time: 2.178766965866089 seconds\n"
          ]
        }
      ]
    },
    {
      "cell_type": "code",
      "source": [
        "import time\n",
        "from sklearn.ensemble import VotingClassifier\n",
        "from sklearn.metrics import accuracy_score, precision_score, recall_score, f1_score\n",
        "\n",
        "# Initialize the Voting Classifier\n",
        "vc = VotingClassifier(estimators=[('Logistic', logreg), ('MLP', mlp_classifier)], voting='soft')\n",
        "\n",
        "# Measure the training time\n",
        "start_time = time.time()\n",
        "vc.fit(X_train, y_train)\n",
        "training_time = time.time() - start_time\n",
        "\n",
        "# Measure the testing time\n",
        "start_time = time.time()\n",
        "pvc = vc.predict(X_test)\n",
        "testing_time = time.time() - start_time\n",
        "\n",
        "# Calculate and print metrics\n",
        "accuracy = accuracy_score(y_test, pvc)\n",
        "precision = precision_score(y_test, pvc, average='weighted')\n",
        "recall = recall_score(y_test, pvc, average='weighted')\n",
        "f1 = f1_score(y_test, pvc, average='weighted')\n",
        "\n",
        "print('Accuracy of Logistic + MLP:', accuracy)\n",
        "print('Precision of Logistic + MLP:', precision)\n",
        "print('Recall of Logistic + MLP:', recall)\n",
        "print('F1 Score of Logistic + MLP:', f1)\n",
        "print('Training Time:', training_time, 'seconds')\n",
        "print('Testing Time:', testing_time, 'seconds')\n"
      ],
      "metadata": {
        "colab": {
          "base_uri": "https://localhost:8080/"
        },
        "id": "DRYYesviEGFt",
        "outputId": "ff6b4ea2-ae06-48ce-bb19-0cee9b84b5b7"
      },
      "execution_count": null,
      "outputs": [
        {
          "output_type": "stream",
          "name": "stdout",
          "text": [
            "Accuracy of Logistic + MLP: 0.9790697674418605\n",
            "Precision of Logistic + MLP: 0.979365321702163\n",
            "Recall of Logistic + MLP: 0.9790697674418605\n",
            "F1 Score of Logistic + MLP: 0.9783094564950571\n",
            "Training Time: 39.67823672294617 seconds\n",
            "Testing Time: 0.10368919372558594 seconds\n"
          ]
        }
      ]
    },
    {
      "cell_type": "code",
      "source": [
        "import time\n",
        "from sklearn.ensemble import VotingClassifier\n",
        "from sklearn.metrics import accuracy_score, precision_score, recall_score, f1_score\n",
        "\n",
        "# Initialize the Voting Classifier\n",
        "vc = VotingClassifier(estimators=[('Decision Tree', clf), ('MLP', mlp_classifier)], voting='soft')\n",
        "\n",
        "# Measure the training time\n",
        "start_time = time.time()\n",
        "vc.fit(X_train, y_train)\n",
        "training_time = time.time() - start_time\n",
        "\n",
        "# Measure the testing time\n",
        "start_time = time.time()\n",
        "pvc = vc.predict(X_test)\n",
        "testing_time = time.time() - start_time\n",
        "\n",
        "# Calculate and print metrics\n",
        "accuracy = accuracy_score(y_test, pvc)\n",
        "precision = precision_score(y_test, pvc, average='weighted')\n",
        "recall = recall_score(y_test, pvc, average='weighted')\n",
        "f1 = f1_score(y_test, pvc, average='weighted')\n",
        "\n",
        "print('Accuracy of Decision Tree + MLP:', accuracy)\n",
        "print('Precision of Decision Tree + MLP:', precision)\n",
        "print('Recall of Decision Tree + MLP:', recall)\n",
        "print('F1 Score of Decision Tree + MLP:', f1)\n",
        "print('Training Time:', training_time, 'seconds')\n",
        "print('Testing Time:', testing_time, 'seconds')\n"
      ],
      "metadata": {
        "colab": {
          "base_uri": "https://localhost:8080/"
        },
        "id": "Woy88dCsEpdW",
        "outputId": "cc5f52e4-b165-4455-d5c9-d2a6ba885da4"
      },
      "execution_count": null,
      "outputs": [
        {
          "output_type": "stream",
          "name": "stdout",
          "text": [
            "Accuracy of Decision Tree + MLP: 0.9643410852713178\n",
            "Precision of Decision Tree + MLP: 0.9635779819819387\n",
            "Recall of Decision Tree + MLP: 0.9643410852713178\n",
            "F1 Score of Decision Tree + MLP: 0.9628730897638975\n",
            "Training Time: 45.2797372341156 seconds\n",
            "Testing Time: 0.0978708267211914 seconds\n"
          ]
        }
      ]
    },
    {
      "cell_type": "code",
      "source": [
        "import time\n",
        "from sklearn.naive_bayes import GaussianNB\n",
        "from sklearn.metrics import accuracy_score, precision_score, recall_score, f1_score\n",
        "\n",
        "# Initialize the Naive Bayes classifier\n",
        "nb_classifier = GaussianNB()\n",
        "\n",
        "# Measure the training time\n",
        "start_time = time.time()\n",
        "nb_classifier.fit(X_train, y_train)\n",
        "training_time = time.time() - start_time\n",
        "\n",
        "# Measure the testing time\n",
        "start_time = time.time()\n",
        "y_pred = nb_classifier.predict(X_test)\n",
        "testing_time = time.time() - start_time\n",
        "\n",
        "# Calculate and print metrics\n",
        "accuracy = accuracy_score(y_test, y_pred)\n",
        "precision = precision_score(y_test, y_pred, average='weighted')\n",
        "recall = recall_score(y_test, y_pred, average='weighted')\n",
        "f1 = f1_score(y_test, y_pred, average='weighted')\n",
        "\n",
        "print('Accuracy of Naive Bayes:', accuracy)\n",
        "print('Precision of Naive Bayes:', precision)\n",
        "print('Recall of Naive Bayes:', recall)\n",
        "print('F1 Score of Naive Bayes:', f1)\n",
        "print('Training Time:', training_time, 'seconds')\n",
        "print('Testing Time:', testing_time, 'seconds')\n"
      ],
      "metadata": {
        "colab": {
          "base_uri": "https://localhost:8080/"
        },
        "id": "wRoH4jT9FfOj",
        "outputId": "dd65417c-9505-48a9-ccac-a0d3f0e18dce"
      },
      "execution_count": null,
      "outputs": [
        {
          "output_type": "stream",
          "name": "stdout",
          "text": [
            "Accuracy of Naive Bayes: 0.8713178294573644\n",
            "Precision of Naive Bayes: 0.9188837441396278\n",
            "Recall of Naive Bayes: 0.8713178294573644\n",
            "F1 Score of Naive Bayes: 0.8855272409651709\n",
            "Training Time: 0.4799056053161621 seconds\n",
            "Testing Time: 0.1449887752532959 seconds\n"
          ]
        }
      ]
    },
    {
      "cell_type": "code",
      "source": [
        "import time\n",
        "from sklearn.ensemble import VotingClassifier\n",
        "from sklearn.metrics import accuracy_score, precision_score, recall_score, f1_score\n",
        "\n",
        "# Initialize the Voting Classifier\n",
        "vc = VotingClassifier(estimators=[('Decision Tree', clf), ('Naive_bayes', nb_classifier)], voting='soft')\n",
        "\n",
        "# Measure the training time\n",
        "start_time = time.time()\n",
        "vc.fit(X_train, y_train)\n",
        "training_time = time.time() - start_time\n",
        "\n",
        "# Measure the testing time\n",
        "start_time = time.time()\n",
        "pvc = vc.predict(X_test)\n",
        "testing_time = time.time() - start_time\n",
        "\n",
        "# Calculate and print metrics\n",
        "accuracy = accuracy_score(y_test, pvc)\n",
        "precision = precision_score(y_test, pvc, average='weighted')\n",
        "recall = recall_score(y_test, pvc, average='weighted')\n",
        "f1 = f1_score(y_test, pvc, average='weighted')\n",
        "\n",
        "print('Accuracy of Naive Bayes + Decision Tree:', accuracy)\n",
        "print('Precision of Naive Bayes + Decision Tree:', precision)\n",
        "print('Recall of Naive Bayes + Decision Tree:', recall)\n",
        "print('F1 Score of Naive Bayes + Decision Tree:', f1)\n",
        "print('Training Time:', training_time, 'seconds')\n",
        "print('Testing Time:', testing_time, 'seconds')\n"
      ],
      "metadata": {
        "colab": {
          "base_uri": "https://localhost:8080/"
        },
        "id": "M2X7H8TPGlRY",
        "outputId": "0a6183f5-4ff5-45ea-e313-d794fb3d8f9c"
      },
      "execution_count": null,
      "outputs": [
        {
          "output_type": "stream",
          "name": "stdout",
          "text": [
            "Accuracy of Naive Bayes + Decision Tree: 0.8689922480620155\n",
            "Precision of Naive Bayes + Decision Tree: 0.9065894472033414\n",
            "Recall of Naive Bayes + Decision Tree: 0.8689922480620155\n",
            "F1 Score of Naive Bayes + Decision Tree: 0.8814890322826374\n",
            "Training Time: 9.11655569076538 seconds\n",
            "Testing Time: 0.16454219818115234 seconds\n"
          ]
        }
      ]
    },
    {
      "cell_type": "code",
      "source": [
        "import time\n",
        "from sklearn.metrics import accuracy_score, precision_score, recall_score, f1_score\n",
        "from xgboost import XGBClassifier\n",
        "\n",
        "# Initialize the XGBoost classifier\n",
        "xgb_classifier = XGBClassifier()\n",
        "\n",
        "# Measure the training time\n",
        "start_time = time.time()\n",
        "xgb_classifier.fit(X_train, y_train)\n",
        "training_time = time.time() - start_time\n",
        "\n",
        "# Measure the testing time\n",
        "start_time = time.time()\n",
        "y_pred = xgb_classifier.predict(X_test)\n",
        "testing_time = time.time() - start_time\n",
        "\n",
        "# Calculate evaluation metrics\n",
        "accuracy = accuracy_score(y_test, y_pred)\n",
        "precision = precision_score(y_test, y_pred, average='weighted')\n",
        "recall = recall_score(y_test, y_pred, average='weighted')\n",
        "f1 = f1_score(y_test, y_pred, average='weighted')\n",
        "\n",
        "# Print evaluation metrics\n",
        "print(\"Accuracy:\", accuracy)\n",
        "print(\"Precision:\", precision)\n",
        "print(\"Recall:\", recall)\n",
        "print(\"F1 Score:\", f1)\n",
        "print(\"Training Time:\", training_time, \"seconds\")\n",
        "print(\"Testing Time:\", testing_time, \"seconds\")\n"
      ],
      "metadata": {
        "colab": {
          "base_uri": "https://localhost:8080/"
        },
        "id": "-m81FYnXHJSL",
        "outputId": "50aeeb44-d1c0-49fd-a172-73355541282e"
      },
      "execution_count": null,
      "outputs": [
        {
          "output_type": "stream",
          "name": "stdout",
          "text": [
            "Accuracy: 0.975968992248062\n",
            "Precision: 0.9757600891251089\n",
            "Recall: 0.975968992248062\n",
            "F1 Score: 0.975247049477445\n",
            "Training Time: 5.2445244789123535 seconds\n",
            "Testing Time: 0.08147644996643066 seconds\n"
          ]
        }
      ]
    },
    {
      "cell_type": "code",
      "source": [
        "import time\n",
        "import numpy as np\n",
        "from sklearn.model_selection import train_test_split\n",
        "from sklearn.tree import DecisionTreeClassifier\n",
        "from xgboost import XGBClassifier\n",
        "from sklearn.ensemble import StackingClassifier\n",
        "from sklearn.metrics import accuracy_score, precision_score, recall_score, f1_score\n",
        "\n",
        "# Assuming X_train, X_test, y_train, y_test are defined previously\n",
        "\n",
        "# Base estimators\n",
        "estimators = [\n",
        "    ('decision_tree', DecisionTreeClassifier(max_depth=5)),\n",
        "    ('xgboost', XGBClassifier())\n",
        "]\n",
        "\n",
        "# Stacking classifier\n",
        "stacking_clf = StackingClassifier(estimators=estimators, final_estimator=DecisionTreeClassifier())\n",
        "\n",
        "# Measure the training time\n",
        "start_time = time.time()\n",
        "stacking_clf.fit(X_train, y_train)\n",
        "training_time = time.time() - start_time\n",
        "\n",
        "# Measure the testing time\n",
        "start_time = time.time()\n",
        "y_pred = stacking_clf.predict(X_test)\n",
        "testing_time = time.time() - start_time\n",
        "\n",
        "# Calculate evaluation metrics\n",
        "accuracy = accuracy_score(y_test, y_pred)\n",
        "precision = precision_score(y_test, y_pred, average='weighted')\n",
        "recall = recall_score(y_test, y_pred, average='weighted')\n",
        "f1 = f1_score(y_test, y_pred, average='weighted')\n",
        "\n",
        "# Print evaluation metrics\n",
        "print(\"Accuracy of Stacking Classifier:\", accuracy)\n",
        "print(\"Precision of Stacking Classifier:\", precision)\n",
        "print(\"Recall of Stacking Classifier:\", recall)\n",
        "print(\"F1 Score of Stacking Classifier:\", f1)\n",
        "print(\"Training Time:\", training_time, \"seconds\")\n",
        "print(\"Testing Time:\", testing_time, \"seconds\")\n"
      ],
      "metadata": {
        "colab": {
          "base_uri": "https://localhost:8080/"
        },
        "id": "NeM_BiUCIdNm",
        "outputId": "f3b51788-f9ab-4eb7-c9b7-3b49fc0fb630"
      },
      "execution_count": null,
      "outputs": [
        {
          "output_type": "stream",
          "name": "stdout",
          "text": [
            "Accuracy of Stacking Classifier: 0.9596899224806201\n",
            "Precision of Stacking Classifier: 0.9609414652410867\n",
            "Recall of Stacking Classifier: 0.9596899224806201\n",
            "F1 Score of Stacking Classifier: 0.9602036292715156\n",
            "Training Time: 38.483439445495605 seconds\n",
            "Testing Time: 0.0598294734954834 seconds\n"
          ]
        }
      ]
    },
    {
      "cell_type": "code",
      "source": [
        "import time\n",
        "import numpy as np\n",
        "from sklearn.model_selection import train_test_split\n",
        "from sklearn.tree import DecisionTreeClassifier\n",
        "from sklearn.neighbors import KNeighborsClassifier\n",
        "from xgboost import XGBClassifier\n",
        "from sklearn.ensemble import StackingClassifier\n",
        "from sklearn.metrics import accuracy_score, precision_score, recall_score, f1_score\n",
        "\n",
        "# Base estimators\n",
        "estimators = [\n",
        "    ('decision_tree', DecisionTreeClassifier(max_depth=5)),\n",
        "    ('knn', KNeighborsClassifier(n_neighbors=5)),\n",
        "    ('xgboost', XGBClassifier())\n",
        "]\n",
        "\n",
        "# Stacking classifier\n",
        "stacking_clf = StackingClassifier(estimators=estimators, final_estimator=DecisionTreeClassifier())\n",
        "\n",
        "# Measure the training time\n",
        "start_time = time.time()\n",
        "stacking_clf.fit(X_train, y_train)\n",
        "training_time = time.time() - start_time\n",
        "\n",
        "# Measure the testing time\n",
        "start_time = time.time()\n",
        "y_pred = stacking_clf.predict(X_test)\n",
        "testing_time = time.time() - start_time\n",
        "\n",
        "# Calculate evaluation metrics\n",
        "accuracy = accuracy_score(y_test, y_pred)\n",
        "precision = precision_score(y_test, y_pred, average='weighted')\n",
        "recall = recall_score(y_test, y_pred, average='weighted')\n",
        "f1 = f1_score(y_test, y_pred, average='weighted')\n",
        "\n",
        "# Print evaluation metrics\n",
        "print(\"Accuracy of Stacking Classifier:\", accuracy)\n",
        "print(\"Precision of Stacking Classifier:\", precision)\n",
        "print(\"Recall of Stacking Classifier:\", recall)\n",
        "print(\"F1 Score of Stacking Classifier:\", f1)\n",
        "print(\"Training Time:\", training_time, \"seconds\")\n",
        "print(\"Testing Time:\", testing_time, \"seconds\")\n"
      ],
      "metadata": {
        "colab": {
          "base_uri": "https://localhost:8080/"
        },
        "id": "eKOWplJsI4u9",
        "outputId": "531f53c1-d4eb-40e8-bd42-47cb324c1232"
      },
      "execution_count": null,
      "outputs": [
        {
          "output_type": "stream",
          "name": "stdout",
          "text": [
            "Accuracy of Stacking Classifier: 0.9589147286821705\n",
            "Precision of Stacking Classifier: 0.9588080808416817\n",
            "Recall of Stacking Classifier: 0.9589147286821705\n",
            "F1 Score of Stacking Classifier: 0.958860230934723\n",
            "Training Time: 45.52285838127136 seconds\n",
            "Testing Time: 3.7289068698883057 seconds\n"
          ]
        }
      ]
    },
    {
      "cell_type": "code",
      "source": [
        "import matplotlib.pyplot as plt\n",
        "\n",
        "# Data\n",
        "classifiers = [\n",
        "    'KNN', 'SVM', 'DT', 'KNN + SVM', 'KNN + SVM + MLP', 'Voting(SVM + KNN)',\n",
        "    'Logistic Regression', 'KNN + Logistic Reg.', 'Logistic Reg. + MLP',\n",
        "    'DT + MLP', 'Naive Bayes', 'Naive Bayes + DT', 'XGBoost', 'XGBoost + DT',\n",
        "    'DT + KNN + XGBoost'\n",
        "]\n",
        "\n",
        "accuracies = [\n",
        "    94.3, 96.89, 96.2, 96.74, 98.21, 87.44, 97.9, 94.34, 97.9, 96.43, 87.13,\n",
        "    86.88, 97.59, 95.96, 95.8\n",
        "]\n",
        "\n",
        "# Plot\n",
        "plt.figure(figsize=(12, 6))\n",
        "bars = plt.bar(classifiers, accuracies, color='lightcoral')\n",
        "plt.ylabel('Accuracy (%)')\n",
        "plt.title('Classifier Accuracy Comparison')\n",
        "plt.ylim(85, 100)\n",
        "plt.xticks(rotation=45, ha='right')\n",
        "plt.tight_layout()\n",
        "plt.grid(axis='y', linestyle='--', alpha=0.7)\n",
        "\n",
        "# Annotate accuracy values on top of each bar\n",
        "for bar, accuracy in zip(bars, accuracies):\n",
        "    yval = bar.get_height()\n",
        "    plt.text(bar.get_x() + bar.get_width()/2, yval + 0.3, f'{accuracy}%', ha='center')\n",
        "\n",
        "plt.show()\n"
      ],
      "metadata": {
        "id": "pOAbpDmJKmL8",
        "outputId": "0cd60e92-3dc3-43b6-99eb-2ec6c6d88459",
        "colab": {
          "base_uri": "https://localhost:8080/",
          "height": 607
        }
      },
      "execution_count": null,
      "outputs": [
        {
          "output_type": "display_data",
          "data": {
            "text/plain": [
              "<Figure size 1200x600 with 1 Axes>"
            ],
            "image/png": "[encoded data removed]"
          },
          "metadata": {}
        }
      ]
    },
    {
      "cell_type": "code",
      "source": [],
      "metadata": {
        "id": "0412u75ft6i4"
      },
      "execution_count": null,
      "outputs": []
    }
  ]
}